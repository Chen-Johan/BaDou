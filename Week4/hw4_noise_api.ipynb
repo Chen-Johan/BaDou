{
 "cells": [
  {
   "cell_type": "markdown",
   "metadata": {},
   "source": [
    "```markdown\n",
    "### `random_noise` 函数说明\n",
    "\n",
    "```python\n",
    "def random_noise(image, mode='gaussian', seed=None, clip=True, **kwargs):\n",
    "```\n",
    "\n",
    "#### 功能\n",
    "为浮点型图片添加各种随机噪声。\n",
    "\n",
    "#### 参数\n",
    "\n",
    "- `image`: 输入图片 (将会被转换成浮点型) `ndarray`型\n",
    "- `mode`: 可选择`str`型表示要添加的噪声类型\n",
    "    - `gaussian`: 高斯噪声\n",
    "    - `localvar`: 高斯分布的加性噪声在“图像”的每个点处具有指定的局部方差。\n",
    "    - `poisson`: 泊松噪声\n",
    "    - `salt`: 盐噪声随机将像素值变成1\n",
    "    - `pepper`: 椒噪声随机将像素值变成0或-1取决于矩阵的值是否带符号\n",
    "    - `s&p`: 椒盐噪声\n",
    "    - `speckle`: 均匀噪声 (均值mean方差variance) out=image+n*image\n",
    "- `seed`: 可选的`int`型如果选择的话在生成噪声前会先设置随机种子以避免伪随机\n",
    "- `clip`: 可选的`bool`型如果是True在添加均值泊松以及高斯噪声后会将图片的数据裁剪到合适范围内。如果是False则输出矩阵的值可能会超出[-1,1]\n",
    "- `sigma`: 可选的`float`型, 定义高斯噪声的标准差。默认值为0.1。\n",
    "- `mean`: 可选的`float`型高斯噪声和均值噪声中的mean参数默认值=0\n",
    "- `var`: 可选的`float`型高斯噪声和均值噪声中的方差默认值=0.01 (注: 不是标准差)\n",
    "- `local_vars`: 可选的`ndarray`型用于定义每个像素点的局部方差在localvar中使用\n",
    "- `amount`: 可选的`float`型是椒盐噪声所占比例默认值=0.05\n",
    "- `salt_vs_pepper`: 可选的`float`型椒盐噪声中椒盐比例值越大表示盐噪声越多默认值=0.5即椒盐等量\n",
    "- `n_bins`: 可选的`int`型用于定义泊松噪声的直方图箱数默认值=256\n",
    "\n",
    "#### 返回值\n",
    "ndarry型且值在[0,1]或者[-1,1]之间取决于是否是有符号数\n",
    "```"
   ]
  },
  {
   "cell_type": "code",
   "execution_count": 4,
   "metadata": {},
   "outputs": [],
   "source": [
    "import cv2\n",
    "import numpy as np\n",
    "from PIL import Image\n",
    "from skimage.util import random_noise"
   ]
  },
  {
   "cell_type": "code",
   "execution_count": 5,
   "metadata": {},
   "outputs": [],
   "source": [
    "# 读取图片\n",
    "img = cv2.imread(\"lenna.png\")\n",
    "\n",
    "# 添加噪声\n",
    "noise_img=random_noise(img, mode='poisson', seed=None, clip=True, amount=0.1, n_bins=256)"
   ]
  },
  {
   "cell_type": "code",
   "execution_count": null,
   "metadata": {},
   "outputs": [],
   "source": [
    "# 图像显示\n",
    "cv2.imshow(\"source\", img)\n",
    "cv2.imshow(\"lenna\", noise_img)\n",
    "cv2.waitKey(0)\n",
    "cv2.destroyAllWindows()\n",
    "\n",
    "# 保存图片\n",
    "#cv.imwrite('lenna_noise.png',noise_gs_img)"
   ]
  }
 ],
 "metadata": {
  "kernelspec": {
   "display_name": "badou",
   "language": "python",
   "name": "python3"
  },
  "language_info": {
   "codemirror_mode": {
    "name": "ipython",
    "version": 3
   },
   "file_extension": ".py",
   "mimetype": "text/x-python",
   "name": "python",
   "nbconvert_exporter": "python",
   "pygments_lexer": "ipython3",
   "version": "3.12.3"
  }
 },
 "nbformat": 4,
 "nbformat_minor": 2
}
