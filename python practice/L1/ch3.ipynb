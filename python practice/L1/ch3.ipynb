{
 "cells": [
  {
   "cell_type": "markdown",
   "metadata": {},
   "source": [
    "# 第 3 章 列表简介"
   ]
  },
  {
   "cell_type": "code",
   "execution_count": 7,
   "metadata": {},
   "outputs": [
    {
     "name": "stdout",
     "output_type": "stream",
     "text": [
      "['trek', 'cannondale', 'redline', 'specialized']\n",
      "Trek\n",
      "\n",
      "\n",
      "cannondale\n",
      "specialized\n",
      "\n",
      "\n",
      "specialized\n"
     ]
    }
   ],
   "source": [
    "bicycles = ['trek', 'cannondale', 'redline', 'specialized']\n",
    "print(bicycles)\n",
    "print(bicycles[0].title())\n",
    "\n",
    "print('\\n')\n",
    "\n",
    "print(bicycles[1])\n",
    "print(bicycles[3])\n",
    "\n",
    "print('\\n')\n",
    "\n",
    "print(bicycles[-1])\n",
    "\n"
   ]
  },
  {
   "cell_type": "code",
   "execution_count": 8,
   "metadata": {},
   "outputs": [
    {
     "name": "stdout",
     "output_type": "stream",
     "text": [
      "['honda', 'yamaha', 'suzuki']\n",
      "['ducati', 'yamaha', 'suzuki']\n"
     ]
    }
   ],
   "source": [
    "motorcycles = ['honda', 'yamaha', 'suzuki']\n",
    "print(motorcycles)\n",
    "\n",
    "motorcycles[0] = 'ducati'\n",
    "print(motorcycles)\n"
   ]
  },
  {
   "cell_type": "code",
   "execution_count": 10,
   "metadata": {},
   "outputs": [
    {
     "name": "stdout",
     "output_type": "stream",
     "text": [
      "['honda', 'yamaha', 'suzuki']\n",
      "['honda', 'yamaha', 'suzuki', 'ducati']\n"
     ]
    }
   ],
   "source": [
    "motorcycles = ['honda', 'yamaha', 'suzuki']\n",
    "print(motorcycles)\n",
    "\n",
    "# append() adds the element to the end of the list\n",
    "motorcycles.append('ducati')\n",
    "print(motorcycles)\n"
   ]
  },
  {
   "cell_type": "code",
   "execution_count": 11,
   "metadata": {},
   "outputs": [
    {
     "name": "stdout",
     "output_type": "stream",
     "text": [
      "['honda', 'ducati', 'yamaha', 'suzuki']\n"
     ]
    }
   ],
   "source": [
    "motorcycles = ['honda', 'yamaha', 'suzuki']\n",
    "\n",
    "# insert() adds the element to the specified index\n",
    "motorcycles.insert(1, 'ducati')\n",
    "print(motorcycles)"
   ]
  },
  {
   "cell_type": "code",
   "execution_count": 1,
   "metadata": {},
   "outputs": [
    {
     "name": "stdout",
     "output_type": "stream",
     "text": [
      "['honda', 'yamaha', 'suzuki']\n",
      "['yamaha', 'suzuki']\n"
     ]
    }
   ],
   "source": [
    " # 3.2.3 从列表中删除元素\n",
    "motorcycles = ['honda', 'yamaha', 'suzuki']\n",
    "print(motorcycles) \n",
    "\n",
    "del motorcycles[0]\n",
    "print(motorcycles)"
   ]
  },
  {
   "cell_type": "code",
   "execution_count": 2,
   "metadata": {},
   "outputs": [
    {
     "name": "stdout",
     "output_type": "stream",
     "text": [
      "['honda', 'yamaha', 'suzuki']\n",
      "['honda', 'yamaha']\n",
      "suzuki\n"
     ]
    }
   ],
   "source": [
    "# pop() 删除元素, 有时候，你要将元素从列表中删除，并接着使用它的值。pop() 可助你实现\n",
    "# 方法pop() 删除列表末尾的元素，并让你能够接着使用它\n",
    "motorcycles = ['honda', 'yamaha', 'suzuki']\n",
    "print(motorcycles)\n",
    "\n",
    "popped_motorcycle = motorcycles.pop()\n",
    "print(motorcycles)\n",
    "\n",
    "print(popped_motorcycle)"
   ]
  },
  {
   "cell_type": "code",
   "execution_count": 3,
   "metadata": {},
   "outputs": [
    {
     "name": "stdout",
     "output_type": "stream",
     "text": [
      "The first motorcycle I owned was a Honda.\n"
     ]
    }
   ],
   "source": [
    "# 实际上，可以使用pop() 来删除列表中任意位置的元素，只需在圆括号中指定要删除元素的索引即可。\n",
    "motorcycles = ['honda', 'yamaha', 'suzuki']\n",
    "\n",
    "first_owned = motorcycles.pop(0)\n",
    "print(f\"The first motorcycle I owned was a {first_owned.title()}.\")\n"
   ]
  },
  {
   "cell_type": "code",
   "execution_count": 4,
   "metadata": {},
   "outputs": [
    {
     "name": "stdout",
     "output_type": "stream",
     "text": [
      "['honda', 'yamaha', 'suzuki', 'ducati']\n",
      "['honda', 'yamaha', 'suzuki']\n"
     ]
    }
   ],
   "source": [
    "# 根据值删除元素\n",
    "motorcycles = ['honda', 'yamaha', 'suzuki', 'ducati']\n",
    "print(motorcycles)\n",
    "\n",
    "motorcycles.remove('ducati')\n",
    "print(motorcycles)\n"
   ]
  },
  {
   "cell_type": "code",
   "execution_count": 1,
   "metadata": {},
   "outputs": [
    {
     "name": "stdout",
     "output_type": "stream",
     "text": [
      "Dear Zhangsan, I would like to invite you to have dinner with me.\n",
      "Dear Lisi, I would like to invite you to have dinner with me.\n",
      "Dear Wangwu, I would like to invite you to have dinner with me.\n"
     ]
    }
   ],
   "source": [
    "# 练习3-4：嘉宾名单 　如果你可以邀请任何人一起共进晚餐（无论是在世的还是故去的），你会邀请哪些人？请创建一个列表，其中包含至少三个你想邀请\n",
    "# 的人，然后使用这个列表打印消息，邀请这些人来与你共进晚餐。\n",
    "name_list = ['zhangsan', 'lisi', 'wangwu']\n",
    "\n",
    "print(f\"Dear {name_list[0].title()}, I would like to invite you to have dinner with me.\")\n",
    "print(f\"Dear {name_list[1].title()}, I would like to invite you to have dinner with me.\")\n",
    "print(f\"Dear {name_list[2].title()}, I would like to invite you to have dinner with me.\")\n",
    "\n"
   ]
  },
  {
   "cell_type": "code",
   "execution_count": 3,
   "metadata": {},
   "outputs": [
    {
     "name": "stdout",
     "output_type": "stream",
     "text": [
      "Zhaoliu can't come to the dinner.\n",
      "Dear Lisi, I would like to invite you to have dinner with me.\n",
      "Dear Wangwu, I would like to invite you to have dinner with me.\n",
      "Dear Zhaoliu, I would like to invite you to have dinner with me.\n"
     ]
    }
   ],
   "source": [
    "# 练习3-5：修改嘉宾名单 　你刚得知有位嘉宾无法赴约，因此需要另外邀请一位嘉宾。\n",
    "# 以完成练习3-4时编写的程序为基础，在程序末尾添加一条print 语句，指出哪位嘉宾无法赴约。\n",
    "# 修改嘉宾名单，将无法赴约的嘉宾的姓名替换为新邀请的嘉宾的姓名。\n",
    "# 再次打印一系列消息，向名单中的每位嘉宾发出邀请。\n",
    "\n",
    "name_refuse = name_list.pop(0)\n",
    "\n",
    "print(f\"{name_refuse.title()} can't come to the dinner.\")\n",
    "\n",
    "name_list.append('zhaoliu')\n",
    "\n",
    "print(f\"Dear {name_list[0].title()}, I would like to invite you to have dinner with me.\")\n",
    "print(f\"Dear {name_list[1].title()}, I would like to invite you to have dinner with me.\")\n",
    "print(f\"Dear {name_list[2].title()}, I would like to invite you to have dinner with me.\")"
   ]
  },
  {
   "cell_type": "code",
   "execution_count": 4,
   "metadata": {},
   "outputs": [
    {
     "name": "stdout",
     "output_type": "stream",
     "text": [
      "I found a bigger table.\n",
      "Dear Qi, I would like to invite you to have dinner with me.\n",
      "Dear Lisi, I would like to invite you to have dinner with me.\n",
      "Dear Ba, I would like to invite you to have dinner with me.\n",
      "Dear Wangwu, I would like to invite you to have dinner with me.\n",
      "Dear Zhaoliu, I would like to invite you to have dinner with me.\n",
      "Dear Jiu, I would like to invite you to have dinner with me.\n"
     ]
    }
   ],
   "source": [
    "# 练习3-6：添加嘉宾\n",
    "# 你刚找到了一个更大的餐桌，可容纳更多的嘉宾。请想想你还想邀请哪三位嘉宾。\n",
    "# 以完成练习3-4或练习3-5时编写的程序为基础，在程序末尾添加一条print 语句，指出你找到了一个更大的餐桌。\n",
    "# 使用insert() 将一位新嘉宾添加到名单开头。\n",
    "# 使用insert() 将另一位新嘉宾添加到名单中间。\n",
    "# 使用append() 将最后一位新嘉宾添加到名单末尾。\n",
    "# 打印一系列消息，向名单中的每位嘉宾发出邀请。\n",
    "\n",
    "print(\"I found a bigger table.\")\n",
    "\n",
    "name_list.insert(0, 'qi')\n",
    "\n",
    "name_list.insert(2, 'ba')\n",
    "\n",
    "name_list.append('jiu')\n",
    "\n",
    "for name in name_list:\n",
    "    print(f\"Dear {name.title()}, I would like to invite you to have dinner with me.\")\n"
   ]
  },
  {
   "cell_type": "code",
   "execution_count": 5,
   "metadata": {},
   "outputs": [
    {
     "name": "stdout",
     "output_type": "stream",
     "text": [
      "I can only invite two guests to dinner.\n",
      "Jiu, I'm sorry that I can't invite you to dinner.\n",
      "Zhaoliu, I'm sorry that I can't invite you to dinner.\n",
      "Wangwu, I'm sorry that I can't invite you to dinner.\n",
      "Ba, I'm sorry that I can't invite you to dinner.\n",
      "Dear Qi, you are still invited to dinner.\n",
      "Dear Lisi, you are still invited to dinner.\n",
      "[]\n"
     ]
    }
   ],
   "source": [
    "# 练习3-7：缩减名单 \n",
    "# 你刚得知新购买的餐桌无法及时送达，因此你只能邀请两位嘉宾。\n",
    "# 以完成练习3-6时编写的程序为基础，在程序末尾添加一行代码，打印一条你只能邀请两位嘉宾共进晚餐的消息。\n",
    "# 使用pop() 不断地删除名单中的嘉宾，直到只有两位嘉宾为止。每次从名单中弹出一位嘉宾时，都打印一条消息，指出你抱歉无法邀请该嘉宾共进晚餐。\n",
    "# 对于余下的两位嘉宾中的每一位，都打印一条消息，指出他们依然在受邀人之列。\n",
    "# 使用del 删除最后两位嘉宾，让名单变成空的。打印该名单，核实程序结束时名单确实是空的。\n",
    "\n",
    "print(\"I can only invite two guests to dinner.\")\n",
    "\n",
    "while len(name_list) > 2:\n",
    "    name_refuse = name_list.pop()\n",
    "    print(f\"{name_refuse.title()}, I'm sorry that I can't invite you to dinner.\")\n",
    "\n",
    "for name in name_list:\n",
    "    print(f\"Dear {name.title()}, you are still invited to dinner.\")\n",
    "    \n",
    "del name_list[0]\n",
    "del name_list[0]\n",
    "\n",
    "print(name_list)\n"
   ]
  },
  {
   "cell_type": "code",
   "execution_count": 6,
   "metadata": {},
   "outputs": [
    {
     "name": "stdout",
     "output_type": "stream",
     "text": [
      "['audi', 'bmw', 'subaru', 'toyota']\n"
     ]
    }
   ],
   "source": [
    "# 3.3 组织列表\n",
    "\n",
    "cars = ['bmw', 'audi', 'toyota', 'subaru']\n",
    "\n",
    "cars.sort()\n",
    "print(cars)"
   ]
  },
  {
   "cell_type": "code",
   "execution_count": 7,
   "metadata": {},
   "outputs": [
    {
     "name": "stdout",
     "output_type": "stream",
     "text": [
      "['toyota', 'subaru', 'bmw', 'audi']\n"
     ]
    }
   ],
   "source": [
    "cars = ['bmw', 'audi', 'toyota', 'subaru']\n",
    "cars.sort(reverse=True)\n",
    "print(cars)"
   ]
  },
  {
   "cell_type": "code",
   "execution_count": 9,
   "metadata": {},
   "outputs": [
    {
     "name": "stdout",
     "output_type": "stream",
     "text": [
      "['bmw', 'audi', 'toyota', 'subaru']\n",
      "['subaru', 'toyota', 'audi', 'bmw']\n"
     ]
    }
   ],
   "source": [
    "cars = ['bmw', 'audi', 'toyota', 'subaru']\n",
    "print(cars)\n",
    "\n",
    "cars.reverse()\n",
    "print(cars)\n"
   ]
  },
  {
   "cell_type": "code",
   "execution_count": 10,
   "metadata": {},
   "outputs": [
    {
     "data": {
      "text/plain": [
       "4"
      ]
     },
     "execution_count": 10,
     "metadata": {},
     "output_type": "execute_result"
    }
   ],
   "source": [
    "cars = ['bmw', 'audi', 'toyota', 'subaru']\n",
    "len(cars)\n"
   ]
  },
  {
   "cell_type": "code",
   "execution_count": 12,
   "metadata": {},
   "outputs": [
    {
     "name": "stdout",
     "output_type": "stream",
     "text": [
      "['Kyoto', 'Paris', 'New York', 'Sydney', 'Cape Town']\n",
      "['Cape Town', 'Kyoto', 'New York', 'Paris', 'Sydney']\n",
      "['Kyoto', 'Paris', 'New York', 'Sydney', 'Cape Town']\n",
      "['Sydney', 'Paris', 'New York', 'Kyoto', 'Cape Town']\n",
      "['Kyoto', 'Paris', 'New York', 'Sydney', 'Cape Town']\n",
      "['Cape Town', 'Sydney', 'New York', 'Paris', 'Kyoto']\n",
      "['Kyoto', 'Paris', 'New York', 'Sydney', 'Cape Town']\n",
      "['Cape Town', 'Kyoto', 'New York', 'Paris', 'Sydney']\n",
      "['Sydney', 'Paris', 'New York', 'Kyoto', 'Cape Town']\n"
     ]
    }
   ],
   "source": [
    "# 练习3-8：放眼世界 　想出至少5个你渴望去旅游的地方。\n",
    "# 将这些地方存储在一个列表中，并确保其中的元素不是按字母顺序排列的。\n",
    "# 按原始排列顺序打印该列表。不要考虑输出是否整洁的问题，只管打印原始\n",
    "# Python列表。\n",
    "# 使用sorted() 按字母顺序打印这个列表，同时不要修改它。\n",
    "# 再次打印该列表，核实排列顺序未变。\n",
    "# 使用sorted() 按与字母顺序相反的顺序打印这个列表，同时不要修改\n",
    "# 它。\n",
    "# 再次打印该列表，核实排列顺序未变。\n",
    "# 使用reverse() 修改列表元素的排列顺序。打印该列表，核实排列顺序\n",
    "# 确实变了。\n",
    "# 使用reverse() 再次修改列表元素的排列顺序。打印该列表，核实已恢\n",
    "# 复到原来的排列顺序。\n",
    "# 使用sort() 修改该列表，使其元素按字母顺序排列。打印该列表，核实\n",
    "# 排列顺序确实变了。\n",
    "# 使用sort() 修改该列表，使其元素按与字母顺序相反的顺序排列。打印\n",
    "# 该列表，核实排列顺序确实变了。\n",
    "\n",
    "places_to_visit = ['Kyoto', 'Paris', 'New York', 'Sydney', 'Cape Town']\n",
    "\n",
    "# 按原始排列顺序打印该列表\n",
    "print(places_to_visit)\n",
    "\n",
    "# 使用sorted() 按字母顺序打印这个列表，同时不要修改它\n",
    "print(sorted(places_to_visit))\n",
    "\n",
    "# 再次打印该列表，核实排列顺序未变\n",
    "print(places_to_visit)\n",
    "\n",
    "# 使用sorted() 按与字母顺序相反的顺序打印这个列表，同时不要修改它\n",
    "print(sorted(places_to_visit, reverse=True))\n",
    "\n",
    "# 再次打印该列表，核实排列顺序未变\n",
    "print(places_to_visit)\n",
    "\n",
    "# 使用reverse() 修改列表元素的排列顺序。打印该列表，核实排列顺序确实变了\n",
    "places_to_visit.reverse()\n",
    "print(places_to_visit)\n",
    "\n",
    "# 使用reverse() 再次修改列表元素的排列顺序。打印该列表，核实已恢复到原来的排列顺序\n",
    "places_to_visit.reverse()\n",
    "print(places_to_visit)\n",
    "\n",
    "# 使用sort() 修改该列表，使其元素按字母顺序排列。打印该列表，核实排列顺序确实变了\n",
    "places_to_visit.sort()\n",
    "print(places_to_visit)\n",
    "\n",
    "# 使用sort() 修改该列表，使其元素按与字母顺序相反的顺序排列。打印该列表，核实排列顺序确实变了\n",
    "places_to_visit.sort(reverse=True)\n",
    "print(places_to_visit)\n"
   ]
  },
  {
   "cell_type": "code",
   "execution_count": 13,
   "metadata": {},
   "outputs": [
    {
     "name": "stdout",
     "output_type": "stream",
     "text": [
      "0\n"
     ]
    }
   ],
   "source": [
    "# 练习3-9：晚餐嘉宾 　在完成练习3-4~练习3-7时编写的程序之一中，使用len() 打印一条消息，指出你邀请了多少位嘉宾来共进晚餐。\n",
    "\n",
    "print(len(name_list))"
   ]
  },
  {
   "cell_type": "code",
   "execution_count": 14,
   "metadata": {},
   "outputs": [
    {
     "name": "stdout",
     "output_type": "stream",
     "text": [
      "['nile', 'amazon', 'yangtze', 'mississippi', 'mekong']\n",
      "['amazon', 'mekong', 'mississippi', 'nile', 'yangtze']\n",
      "['nile', 'amazon', 'yangtze', 'mississippi', 'mekong']\n",
      "['yangtze', 'nile', 'mississippi', 'mekong', 'amazon']\n",
      "['nile', 'amazon', 'yangtze', 'mississippi', 'mekong']\n",
      "['mekong', 'mississippi', 'yangtze', 'amazon', 'nile']\n",
      "['nile', 'amazon', 'yangtze', 'mississippi', 'mekong']\n"
     ]
    }
   ],
   "source": [
    "# 练习3-10：尝试使用各个函数 　想想可存储到列表中的东西，如山川、河流、国家、城市、语言或你喜欢的任何东西。编写一个程序，在其中创建一个包含\n",
    "# 这些元素的列表，然后，对于本章介绍的每个函数，都至少使用一次来处理这个列表。\n",
    "\n",
    "rivers = ['nile', 'amazon', 'yangtze', 'mississippi', 'mekong']\n",
    "\n",
    "print(rivers)\n",
    "\n",
    "print(sorted(rivers))\n",
    "\n",
    "print(rivers)\n",
    "\n",
    "print(sorted(rivers, reverse=True))\n",
    "\n",
    "print(rivers)\n",
    "\n",
    "rivers.reverse()\n",
    "\n",
    "print(rivers)\n",
    "\n",
    "rivers.reverse()\n",
    "\n",
    "print(rivers)"
   ]
  }
 ],
 "metadata": {
  "kernelspec": {
   "display_name": "py12",
   "language": "python",
   "name": "python3"
  },
  "language_info": {
   "codemirror_mode": {
    "name": "ipython",
    "version": 3
   },
   "file_extension": ".py",
   "mimetype": "text/x-python",
   "name": "python",
   "nbconvert_exporter": "python",
   "pygments_lexer": "ipython3",
   "version": "3.12.5"
  }
 },
 "nbformat": 4,
 "nbformat_minor": 2
}
