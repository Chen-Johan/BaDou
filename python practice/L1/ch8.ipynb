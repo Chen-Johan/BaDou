{
 "cells": [
  {
   "cell_type": "markdown",
   "metadata": {},
   "source": [
    "# 第 8 章 函数"
   ]
  },
  {
   "cell_type": "code",
   "execution_count": 10,
   "metadata": {},
   "outputs": [],
   "source": [
    "# 8.1 定义函数\n",
    "\n",
    "def greet_user(user_name):\n",
    "    \"\"\"显示简单的问候语\"\"\"\n",
    "    print(f\"Hello, {user_name.title()}!\")\n"
   ]
  },
  {
   "cell_type": "code",
   "execution_count": 11,
   "metadata": {},
   "outputs": [
    {
     "name": "stdout",
     "output_type": "stream",
     "text": [
      "Hello, Jesse!\n"
     ]
    }
   ],
   "source": [
    "greet_user('jesse')"
   ]
  },
  {
   "cell_type": "markdown",
   "metadata": {},
   "source": [
    "练习8-1：消息 　编写一个名为display_message() 的函数，它打印一个句\n",
    "子，指出你在本章学的是什么。调用这个函数，确认显示的消息正确无误。\n"
   ]
  },
  {
   "cell_type": "code",
   "execution_count": 12,
   "metadata": {},
   "outputs": [
    {
     "name": "stdout",
     "output_type": "stream",
     "text": [
      "I'm learning python function\n"
     ]
    }
   ],
   "source": [
    "def display_message():\n",
    "    print(\"I'm learning python function\")\n",
    "\n",
    "display_message()"
   ]
  },
  {
   "cell_type": "markdown",
   "metadata": {},
   "source": [
    "练习8-2：喜欢的图书 　编写一个名为favorite_book() 的函数，其中包含\n",
    "一个名为title 的形参。这个函数打印一条消息，下面是一个例子。\n",
    "One of my favorite books is Alice in Wonderland."
   ]
  },
  {
   "cell_type": "code",
   "execution_count": 13,
   "metadata": {},
   "outputs": [
    {
     "name": "stdout",
     "output_type": "stream",
     "text": [
      "One of my favorite books is Alice In Wonderland\n"
     ]
    }
   ],
   "source": [
    "def favorite_book(title):\n",
    "    print(f\"One of my favorite books is {title.title()}\")\n",
    "    \n",
    "favorite_book('alice in wonderland')"
   ]
  },
  {
   "cell_type": "code",
   "execution_count": 14,
   "metadata": {},
   "outputs": [
    {
     "name": "stdout",
     "output_type": "stream",
     "text": [
      "\n",
      "I have a hamster.\n",
      "My hamster's name is Harry.\n"
     ]
    }
   ],
   "source": [
    "# 8.2 传递实参\n",
    "\n",
    "def describe_pet(animal_type, pet_name):\n",
    "    \n",
    "    \"\"\"显示宠物的信息。\"\"\"\n",
    "    print(f\"\\nI have a {animal_type}.\")\n",
    "    print(f\"My {animal_type}'s name is {pet_name.title()}.\")\n",
    "    \n",
    "describe_pet('hamster', 'harry')"
   ]
  },
  {
   "cell_type": "code",
   "execution_count": 16,
   "metadata": {},
   "outputs": [
    {
     "name": "stdout",
     "output_type": "stream",
     "text": [
      "\n",
      "I have a hamster.\n",
      "My hamster's name is Harry.\n",
      "\n",
      "I have a dog.\n",
      "My dog's name is Willie.\n",
      "\n",
      "I have a harry.\n",
      "My harry's name is Hamster.\n"
     ]
    }
   ],
   "source": [
    "describe_pet('hamster', 'harry')\n",
    "describe_pet('dog', 'willie')\n",
    "\n",
    "describe_pet('harry', 'hamster')\n"
   ]
  },
  {
   "cell_type": "code",
   "execution_count": 18,
   "metadata": {},
   "outputs": [
    {
     "name": "stdout",
     "output_type": "stream",
     "text": [
      "\n",
      "I have a hamster.\n",
      "My hamster's name is Harry.\n",
      "\n",
      "I have a hamster.\n",
      "My hamster's name is Harry.\n"
     ]
    }
   ],
   "source": [
    "def describe_pet(animal_type, pet_name):\n",
    "    \"\"\"显示宠物的信息。\"\"\"\n",
    "    print(f\"\\nI have a {animal_type}.\")\n",
    "    print(f\"My {animal_type}'s name is {pet_name.title()}.\")\n",
    "\n",
    "describe_pet(animal_type='hamster', pet_name='harry')\n",
    "describe_pet(pet_name='harry', animal_type='hamster')\n"
   ]
  },
  {
   "cell_type": "code",
   "execution_count": 20,
   "metadata": {},
   "outputs": [
    {
     "name": "stdout",
     "output_type": "stream",
     "text": [
      "\n",
      "I have a dog.\n",
      "My dog's name is Willie.\n",
      "\n",
      "I have a dog.\n",
      "My dog's name is Willie.\n",
      "\n",
      "I have a hamster.\n",
      "My hamster's name is Harry.\n",
      "\n",
      "I have a hamster.\n",
      "My hamster's name is Harry.\n",
      "\n",
      "I have a hamster.\n",
      "My hamster's name is Harry.\n"
     ]
    }
   ],
   "source": [
    "# 8.3 默认值\n",
    "\n",
    "def describe_pet(pet_name, animal_type='dog'):\n",
    "    \"\"\"显示宠物的信息。\"\"\"\n",
    "    print(f\"\\nI have a {animal_type}.\")\n",
    "    print(f\"My {animal_type}'s name is {pet_name.title()}.\")\n",
    "\n",
    "describe_pet(pet_name='willie')\n",
    "describe_pet('willie')\n",
    "\n",
    "\n",
    "# 一只名为Harry的仓鼠。\n",
    "describe_pet('harry', 'hamster')\n",
    "describe_pet(pet_name='harry', animal_type='hamster')\n",
    "describe_pet(animal_type='hamster', pet_name='harry')\n"
   ]
  },
  {
   "cell_type": "markdown",
   "metadata": {},
   "source": [
    "练习8-3：T恤 　编写一个名为make_shirt() 的函数，它接受一个尺码以及\n",
    "要印到T恤上的字样。这个函数应打印一个句子，概要地说明T恤的尺码和字\n",
    "样。\n",
    "\n",
    "使用位置实参调用该函数来制作一件T恤，再使用关键字实参来调用这个函数。"
   ]
  },
  {
   "cell_type": "code",
   "execution_count": 22,
   "metadata": {},
   "outputs": [
    {
     "name": "stdout",
     "output_type": "stream",
     "text": [
      "The shirt size is L, and the message is I love python\n"
     ]
    }
   ],
   "source": [
    "def make_shirt(size, message):\n",
    "    print(f\"The shirt size is {size}, and the message is {message}\")\n",
    "    \n",
    "make_shirt('L', 'I love python')"
   ]
  },
  {
   "cell_type": "markdown",
   "metadata": {},
   "source": [
    "练习8-4：大号T恤 　修改函数make_shirt() ，使其在默认情况下制作一件\n",
    "印有“I love Python”字样的大号T恤。调用这个函数来制作：一件印有默认\n",
    "字样的大号T恤，一件印有默认字样的中号T恤，以及一件印有其他字样的T恤\n",
    "（尺码无关紧要）。"
   ]
  },
  {
   "cell_type": "code",
   "execution_count": 24,
   "metadata": {},
   "outputs": [
    {
     "name": "stdout",
     "output_type": "stream",
     "text": [
      "The shirt size is M, and the message is I love python\n",
      "The shirt size is S, and the message is I love python\n",
      "The shirt size is S, and the message is VV\n"
     ]
    }
   ],
   "source": [
    "make_shirt(size='M', message='I love python')\n",
    "make_shirt(message='I love python', size='S')\n",
    "make_shirt('S', message='VV')"
   ]
  },
  {
   "cell_type": "markdown",
   "metadata": {},
   "source": [
    "练习8-5：城市 　编写一个名为describe_city() 的函数，它接受一座城市\n",
    "的名字以及该城市所属的国家。这个函数应打印一个简单的句子，下面是一个\n",
    "例子。\n",
    "Reykjavik is in Iceland.\n",
    "\n",
    "给用于存储国家的形参指定默认值。为三座不同的城市调用这个函数，且其中\n",
    "至少有一座城市不属于默认国家。"
   ]
  },
  {
   "cell_type": "code",
   "execution_count": 25,
   "metadata": {},
   "outputs": [
    {
     "name": "stdout",
     "output_type": "stream",
     "text": [
      "Beijing is in China\n",
      "Shanghai is in China\n",
      "Tokyo is in Japan\n"
     ]
    }
   ],
   "source": [
    "def describe_city(city, country='China'):\n",
    "    print(f\"{city.title()} is in {country.title()}\")\n",
    "    \n",
    "describe_city('beijing')\n",
    "describe_city('shanghai')\n",
    "describe_city('tokyo', 'japan')"
   ]
  },
  {
   "cell_type": "code",
   "execution_count": 26,
   "metadata": {},
   "outputs": [
    {
     "name": "stdout",
     "output_type": "stream",
     "text": [
      "Jimi Hendrix\n"
     ]
    }
   ],
   "source": [
    "# 8.3 返回值\n",
    "\n",
    "def get_formatted_name(first_name, last_name):\n",
    "    \"\"\"返回整洁的姓名\"\"\"\n",
    "    full_name = f\"{first_name} {last_name}\"\n",
    "    return full_name.title()\n",
    "\n",
    "musician = get_formatted_name('jimi', 'hendrix')\n",
    "print(musician)"
   ]
  },
  {
   "cell_type": "code",
   "execution_count": 27,
   "metadata": {},
   "outputs": [
    {
     "name": "stdout",
     "output_type": "stream",
     "text": [
      "John Lee Hooker\n"
     ]
    }
   ],
   "source": [
    "def get_formatted_name(first_name, middle_name, last_name):\n",
    "    \"\"\"返回整洁的姓名。\"\"\"\n",
    "    full_name = f\"{first_name} {middle_name} {last_name}\"\n",
    "    return full_name.title()\n",
    "\n",
    "musician = get_formatted_name('john', 'lee', 'hooker')\n",
    "print(musician)"
   ]
  },
  {
   "cell_type": "code",
   "execution_count": 29,
   "metadata": {},
   "outputs": [
    {
     "name": "stdout",
     "output_type": "stream",
     "text": [
      "Jimi Hendrix\n",
      "John Lee Hooker\n"
     ]
    }
   ],
   "source": [
    "# 8.3.2 让实参变成可选的\n",
    "def get_formatted_name(first_name, last_name, middle_name=''):\n",
    "    \"\"\"返回整洁的姓名。\"\"\"\n",
    "    if middle_name:\n",
    "        full_name = f\"{first_name} {middle_name} {last_name}\"\n",
    "    else:\n",
    "        full_name = f\"{first_name} {last_name}\"\n",
    "    return full_name.title()\n",
    "\n",
    "musician = get_formatted_name('jimi', 'hendrix')\n",
    "print(musician)\n",
    "\n",
    "musician = get_formatted_name('john', 'hooker', 'lee')\n",
    "print(musician)"
   ]
  },
  {
   "cell_type": "code",
   "execution_count": 30,
   "metadata": {},
   "outputs": [
    {
     "name": "stdout",
     "output_type": "stream",
     "text": [
      "{'first': 'jimi', 'last': 'hendrix', 'age': 27}\n"
     ]
    }
   ],
   "source": [
    "def build_person(first_name, last_name, age=None):\n",
    "    \"\"\"返回一个字典，其中包含有关一个人的信息。\"\"\"\n",
    "    person = {'first': first_name, 'last': last_name}\n",
    "    if age:\n",
    "        person['age'] = age\n",
    "    return person\n",
    "\n",
    "musician = build_person('jimi', 'hendrix', age=27)\n",
    "print(musician)\n"
   ]
  },
  {
   "cell_type": "code",
   "execution_count": 33,
   "metadata": {},
   "outputs": [
    {
     "name": "stdout",
     "output_type": "stream",
     "text": [
      "\n",
      "Please tell me your name:\n",
      "(enter 'q' at any time to quit)\n",
      "\n",
      "Hello, J C!\n",
      "\n",
      "Please tell me your name:\n",
      "(enter 'q' at any time to quit)\n"
     ]
    }
   ],
   "source": [
    "def get_formatted_name(first_name, last_name):\n",
    "    \"\"\"返回整洁的姓名。\"\"\"\n",
    "    full_name = f\"{first_name} {last_name}\"\n",
    "    return full_name.title()\n",
    "\n",
    "while True:\n",
    "    print(\"\\nPlease tell me your name:\")\n",
    "    print(\"(enter 'q' at any time to quit)\")\n",
    "    f_name = input(\"First name: \")\n",
    "    \n",
    "    if f_name == 'q':\n",
    "        break\n",
    "    \n",
    "    l_name = input(\"Last name: \")\n",
    "    if l_name == 'q':\n",
    "        break\n",
    "    \n",
    "\n",
    "    formatted_name = get_formatted_name(f_name, l_name)\n",
    "    print(f\"\\nHello, {formatted_name}!\")\n"
   ]
  },
  {
   "cell_type": "markdown",
   "metadata": {},
   "source": [
    "练习8-7：专辑 　编写一个名为make_album() 的函数，它创建一个描述音乐\n",
    "专辑的字典。这个函数应接受歌手的名字和专辑名，并返回一个包含这两项信\n",
    "息的字典。使用这个函数创建三个表示不同专辑的字典，并打印每个返回的\n",
    "值，以核实字典正确地存储了专辑的信息。\n",
    "\n",
    "给函数make_album() 添加一个默认值为None 的可选形参，以便存储专辑包\n",
    "含的歌曲数。如果调用这个函数时指定了歌曲数，就将该值添加到表示专辑的\n",
    "字典中。调用这个函数，并至少在一次调用中指定专辑包含的歌曲数。"
   ]
  },
  {
   "cell_type": "code",
   "execution_count": 34,
   "metadata": {},
   "outputs": [
    {
     "name": "stdout",
     "output_type": "stream",
     "text": [
      "{'singer': 'jay', 'album': 'jay'}\n",
      "{'singer': 'jay', 'album': 'jay', 'number': 10}\n"
     ]
    }
   ],
   "source": [
    "def make_album(singer, album, number=None):\n",
    "    album_info = {'singer': singer, 'album': album}\n",
    "    if number:\n",
    "        album_info['number'] = number\n",
    "    return album_info\n",
    "\n",
    "album = make_album('jay', 'jay')\n",
    "print(album)\n",
    "\n",
    "album = make_album('jay', 'jay', 10)\n",
    "print(album)"
   ]
  },
  {
   "cell_type": "markdown",
   "metadata": {},
   "source": [
    "练习8-8：用户的专辑 　在为完成练习8-7编写的程序中，编写一个while 循\n",
    "环，让用户输入专辑的歌手和名称。获取这些信息后，使用它们来调用函数\n",
    "make_album() 并将创建的字典打印出来。在这个while 循环中，务必提供\n",
    "退出途径。"
   ]
  },
  {
   "cell_type": "code",
   "execution_count": 36,
   "metadata": {},
   "outputs": [
    {
     "name": "stdout",
     "output_type": "stream",
     "text": [
      "\n",
      "Please tell me the album info:\n",
      "(enter 'q' at any time to quit)\n",
      "{'singer': 'jay', 'album': 'jay'}\n",
      "\n",
      "Please tell me the album info:\n",
      "(enter 'q' at any time to quit)\n"
     ]
    }
   ],
   "source": [
    "while True:\n",
    "    print(\"\\nPlease tell me the album info:\")\n",
    "    print(\"(enter 'q' at any time to quit)\")\n",
    "    singer = input(\"Singer: \")\n",
    "    \n",
    "    if singer == 'q':\n",
    "        break\n",
    "    \n",
    "    album = input(\"Album: \")\n",
    "    if album == 'q':\n",
    "        break\n",
    "    \n",
    "    album_info = make_album(singer, album)\n",
    "    print(album_info)"
   ]
  },
  {
   "cell_type": "code",
   "execution_count": 37,
   "metadata": {},
   "outputs": [
    {
     "name": "stdout",
     "output_type": "stream",
     "text": [
      "Hello, Hannah!\n",
      "Hello, Ty!\n",
      "Hello, Margot!\n"
     ]
    }
   ],
   "source": [
    "# 8.4 传递列表\n",
    "\n",
    "def greet_users(names):\n",
    "    \"\"\"向列表中的每位用户发出简单的问候。\"\"\"\n",
    "    for name in names:\n",
    "        msg = f\"Hello, {name.title()}!\"\n",
    "        print(msg)\n",
    "        \n",
    "usernames = ['hannah', 'ty', 'margot']\n",
    "greet_users(usernames)"
   ]
  },
  {
   "cell_type": "code",
   "execution_count": 39,
   "metadata": {},
   "outputs": [
    {
     "name": "stdout",
     "output_type": "stream",
     "text": [
      "Printing model: dodecahedron\n",
      "Printing model: robot pendant\n",
      "Printing model: phone case\n",
      "\n",
      "The following models have been printed:\n",
      "dodecahedron\n",
      "robot pendant\n",
      "phone case\n"
     ]
    }
   ],
   "source": [
    "def print_models(unprinted_designs, completed_models):\n",
    "    \"\"\"\n",
    "    模拟打印每个设计，直到没有未打印的设计为止。\n",
    "    打印每个设计后，都将其移到列表completed_models中。\n",
    "    \"\"\"\n",
    "    while unprinted_designs:\n",
    "        current_design = unprinted_designs.pop()\n",
    "        print(f\"Printing model: {current_design}\")\n",
    "        completed_models.append(current_design)\n",
    "\n",
    "def show_completed_models(completed_models):\n",
    "    \"\"\"显示打印好的所有模型。\"\"\"\n",
    "    print(\"\\nThe following models have been printed:\")\n",
    "    for completed_model in completed_models:\n",
    "        print(completed_model)\n",
    "\n",
    "# 首先创建一个列表，其中包含一些要打印的设计。\n",
    "unprinted_designs = ['phone case', 'robot pendant', 'dodecahedron']\n",
    "completed_models = []\n",
    "\n",
    "print_models(unprinted_designs, completed_models)\n",
    "show_completed_models(completed_models)"
   ]
  },
  {
   "cell_type": "code",
   "execution_count": 42,
   "metadata": {},
   "outputs": [
    {
     "name": "stdout",
     "output_type": "stream",
     "text": [
      "Printing model: dodecahedron\n",
      "Printing model: robot pendant\n",
      "Printing model: phone case\n",
      "\n",
      "The following models have been printed:\n",
      "dodecahedron\n",
      "robot pendant\n",
      "phone case\n",
      "['phone case', 'robot pendant', 'dodecahedron']\n"
     ]
    }
   ],
   "source": [
    "# 8.4.2 禁止函数修改列表\n",
    "unprinted_designs = ['phone case', 'robot pendant', 'dodecahedron']\n",
    "completed_models = []\n",
    "\n",
    "# 副本\n",
    "print_models(unprinted_designs[:], completed_models)    # 列表unprinted_designs 的副本\n",
    "show_completed_models(completed_models)\n",
    "print(unprinted_designs)"
   ]
  },
  {
   "cell_type": "markdown",
   "metadata": {},
   "source": [
    "练习8-9：消息 　创建一个列表，其中包含一系列简短的文本消息。将该列表\n",
    "传递给一个名为show_messages() 的函数，这个函数会打印列表中的每条文\n",
    "本消息。"
   ]
  },
  {
   "cell_type": "code",
   "execution_count": 47,
   "metadata": {},
   "outputs": [
    {
     "name": "stdout",
     "output_type": "stream",
     "text": [
      "I\n",
      "love\n",
      "python\n"
     ]
    }
   ],
   "source": [
    "msgs_list = ['I', 'love', 'python']\n",
    "\n",
    "def show_message(msgs):\n",
    "    for msg in msgs:\n",
    "        print(msg)\n",
    "    \n",
    "show_message(msgs_list)"
   ]
  },
  {
   "cell_type": "markdown",
   "metadata": {},
   "source": [
    "练习8-10：发送消息 　在你为完成练习8-9而编写的程序中，编写一个名为\n",
    "send_messages() 的函数，将每条消息都打印出来并移到一个名为\n",
    "sent_messages 的列表中。调用函数send_messages() ，再将两个列表都\n",
    "打印出来，确认正确地移动了消息。\n"
   ]
  },
  {
   "cell_type": "code",
   "execution_count": 49,
   "metadata": {},
   "outputs": [
    {
     "name": "stdout",
     "output_type": "stream",
     "text": [
      "python\n",
      "love\n",
      "I\n"
     ]
    }
   ],
   "source": [
    "sent_msgs = []\n",
    "def send_messages(msgs):\n",
    "    while msgs:\n",
    "        sent_msg = msgs.pop()\n",
    "        print(sent_msg)\n",
    "        sent_msgs.append(sent_msg)\n",
    "\n",
    "send_messages(msgs_list[:])"
   ]
  },
  {
   "cell_type": "code",
   "execution_count": 50,
   "metadata": {},
   "outputs": [
    {
     "name": "stdout",
     "output_type": "stream",
     "text": [
      "('pepperoni',)\n",
      "('mushrooms', 'green peppers', 'extra cheese')\n"
     ]
    }
   ],
   "source": [
    "# 8.5 传递任意数量的实参\n",
    "\n",
    "'''\n",
    "有时候，预先不知道函数需要接受多少个实参，好在Python允许函数从调用语句中\n",
    "收集任意数量的实参。\n",
    "'''\n",
    "\n",
    "def make_pizza(*toppings):\n",
    "    \"\"\"打印顾客点的所有配料\"\"\"\n",
    "    print(toppings)\n",
    "\n",
    "make_pizza('pepperoni')\n",
    "make_pizza('mushrooms', 'green peppers', 'extra cheese')"
   ]
  },
  {
   "cell_type": "code",
   "execution_count": 51,
   "metadata": {},
   "outputs": [
    {
     "name": "stdout",
     "output_type": "stream",
     "text": [
      "\n",
      "Making a pizza with the following toppings:\n",
      "- pepperoni\n",
      "\n",
      "Making a pizza with the following toppings:\n",
      "- mushrooms\n",
      "- green peppers\n",
      "- extra cheese\n"
     ]
    }
   ],
   "source": [
    "def make_pizza(*toppings):\n",
    "    \"\"\"概述要制作的比萨。\"\"\"\n",
    "    print(\"\\nMaking a pizza with the following toppings:\")\n",
    "    for topping in toppings:\n",
    "        print(f\"- {topping}\")\n",
    "\n",
    "make_pizza('pepperoni')\n",
    "make_pizza('mushrooms', 'green peppers', 'extra cheese')\n"
   ]
  },
  {
   "cell_type": "code",
   "execution_count": 52,
   "metadata": {},
   "outputs": [
    {
     "name": "stdout",
     "output_type": "stream",
     "text": [
      "\n",
      "Making a 16-inch pizza with the following toppings:\n",
      "- pepperoni\n",
      "\n",
      "Making a 12-inch pizza with the following toppings:\n",
      "- mushrooms\n",
      "- green peppers\n",
      "- extra cheese\n"
     ]
    }
   ],
   "source": [
    "# 8.5.1 结合使用位置实参和任意数量实参\n",
    "'''\n",
    "如果要让函数接受不同类型的实参，必须在函数定义中将接纳任意数量实参的形参\n",
    "放在最后。Python先匹配位置实参和关键字实参，再将余下的实参都收集到最后一\n",
    "个形参中。\n",
    "'''\n",
    "\n",
    "def make_pizza(size, *toppings):\n",
    "    \"\"\"概述要制作的比萨。\"\"\"\n",
    "    print(f\"\\nMaking a {size}-inch pizza with the following toppings:\")\n",
    "    for topping in toppings:\n",
    "        print(f\"- {topping}\")\n",
    "\n",
    "make_pizza(16, 'pepperoni')\n",
    "make_pizza(12, 'mushrooms', 'green peppers', 'extra cheese')\n"
   ]
  },
  {
   "cell_type": "code",
   "execution_count": 58,
   "metadata": {},
   "outputs": [
    {
     "name": "stdout",
     "output_type": "stream",
     "text": [
      "{'location': 'princeton', 'field': 'physics', 'first_name': 'albert', 'last_name': 'einstein'}\n"
     ]
    }
   ],
   "source": [
    "# 8.5.2 使用任意数量的关键字实参\n",
    "'''\n",
    "有时候，需要接受任意数量的实参，但预先不知道传递给函数的会是什么样的信\n",
    "息。在这种情况下，可将函数编写成能够接受任意数量的键值对——调用语句提供\n",
    "了多少就接受多少。一个这样的示例是创建用户简介：你知道将收到有关用户的信\n",
    "息，但不确定会是什么样的信息。在下面的示例中，函数build_profile() 接受\n",
    "名和姓，还接受任意数量的关键字实参：\n",
    "'''\n",
    "\n",
    "'''\n",
    "函数build_profile() 的定义要求提供名和姓，同时允许根据需要提供任意数量\n",
    "的名称值对。形参**user_info 中的两个星号让Python创建一个名为user_info\n",
    "的空字典，并将收到的所有名称值对都放到这个字典中。在这个函数中，可以像访\n",
    "问其他字典那样访问user_info 中的名称值对。\n",
    "\n",
    "\n",
    "注意 你经常会看到形参名**kwargs ，它用于收集任意数量的关键字实参。\n",
    "'''\n",
    "\n",
    "def build_profile(first, last, **user_info):\n",
    "    \"\"\"创建一个字典，其中包含我们知道的有关用户的一切。\"\"\"\n",
    "    user_info['first_name'] = first\n",
    "    user_info['last_name'] = last\n",
    "    return user_info\n",
    "\n",
    "user_profile = build_profile('albert', 'einstein',\n",
    "                             location='princeton',\n",
    "                             field='physics')\n",
    "print(user_profile)\n"
   ]
  },
  {
   "cell_type": "markdown",
   "metadata": {},
   "source": [
    "练习8-12：三明治 　编写一个函数，它接受顾客要在三明治中添加的一系列食\n",
    "材。这个函数只有一个形参（它收集函数调用中提供的所有食材），并打印一\n",
    "条消息，对顾客点的三明治进行概述。调用这个函数三次，每次都提供不同数\n",
    "量的实参。\n"
   ]
  },
  {
   "cell_type": "code",
   "execution_count": 61,
   "metadata": {},
   "outputs": [
    {
     "name": "stdout",
     "output_type": "stream",
     "text": [
      "You ordered ('apple',) in your sandwich\n",
      "You ordered ('banana',) in your sandwich\n",
      "You ordered ('orange',) in your sandwich\n"
     ]
    }
   ],
   "source": [
    "def food (*foods):\n",
    "    print(f'You ordered {foods} in your sandwich')\n",
    "\n",
    "food('apple')\n",
    "food('banana')\n",
    "food('orange')"
   ]
  },
  {
   "cell_type": "markdown",
   "metadata": {},
   "source": [
    "练习8-13：用户简介 　复制前面的程序user_profile.py，在其中调用\n",
    "build_profile() 来创建有关你的简介。调用这个函数时，指定你的名和\n",
    "姓，以及三个描述你的键值对。\n"
   ]
  },
  {
   "cell_type": "code",
   "execution_count": 63,
   "metadata": {},
   "outputs": [
    {
     "name": "stdout",
     "output_type": "stream",
     "text": [
      "{'location': 'China', 'field': 'CV & NLP', 'sex': 'Male', 'first_name': 'J', 'last_name': 'C'}\n"
     ]
    }
   ],
   "source": [
    "def build_profile(first, last, **user_info):\n",
    "    \"\"\"创建一个字典，其中包含我们知道的有关用户的一切。\"\"\"\n",
    "    user_info['first_name'] = first\n",
    "    user_info['last_name'] = last\n",
    "    return user_info\n",
    "\n",
    "user_profile = build_profile('J', 'C',\n",
    "                             location='China',\n",
    "                             field='CV & NLP',\n",
    "                             sex='Male')\n",
    "\n",
    "print(user_profile)"
   ]
  },
  {
   "cell_type": "markdown",
   "metadata": {},
   "source": [
    "练习8-14：汽车 　编写一个函数，将一辆汽车的信息存储在字典中。这个函数\n",
    "总是接受制造商和型号，还接受任意数量的关键字实参。这样调用该函数：提\n",
    "供必不可少的信息，以及两个名称值对，如颜色和选装配件。这个函数必须能\n",
    "够像下面这样进行调用："
   ]
  },
  {
   "cell_type": "code",
   "execution_count": 65,
   "metadata": {},
   "outputs": [
    {
     "name": "stdout",
     "output_type": "stream",
     "text": [
      "{'color': 'blue', 'tow_package': True, 'manufacturer': 'subaru', 'model': 'outback'}\n"
     ]
    }
   ],
   "source": [
    "def car_info(manufacturer, model, **car_info):\n",
    "    car_info['manufacturer'] = manufacturer\n",
    "    car_info['model'] = model\n",
    "    return car_info\n",
    "\n",
    "car = car_info('subaru', 'outback', color='blue', tow_package=True)\n",
    "\n",
    "print(car)"
   ]
  }
 ],
 "metadata": {
  "kernelspec": {
   "display_name": "py12",
   "language": "python",
   "name": "python3"
  },
  "language_info": {
   "codemirror_mode": {
    "name": "ipython",
    "version": 3
   },
   "file_extension": ".py",
   "mimetype": "text/x-python",
   "name": "python",
   "nbconvert_exporter": "python",
   "pygments_lexer": "ipython3",
   "version": "3.12.5"
  }
 },
 "nbformat": 4,
 "nbformat_minor": 2
}
