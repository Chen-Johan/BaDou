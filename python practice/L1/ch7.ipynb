{
 "cells": [
  {
   "cell_type": "markdown",
   "metadata": {},
   "source": [
    "# 第 7 章 用户输入和while 循环"
   ]
  },
  {
   "cell_type": "code",
   "execution_count": 2,
   "metadata": {},
   "outputs": [
    {
     "name": "stdout",
     "output_type": "stream",
     "text": [
      "JC\n"
     ]
    }
   ],
   "source": [
    "message = input(\"Tell me something, and I will repeat it back to you: \")\n",
    "print(message)\n",
    "\n"
   ]
  },
  {
   "cell_type": "code",
   "execution_count": 3,
   "metadata": {},
   "outputs": [
    {
     "name": "stdout",
     "output_type": "stream",
     "text": [
      "\n",
      "Hello, JC!\n"
     ]
    }
   ],
   "source": [
    "prompt = \"If you tell us who you are, we can personalize the messages you see.\"\n",
    "prompt += \"\\nWhat is your first name? \"\n",
    "\n",
    "name = input(prompt)\n",
    "print(f\"\\nHello, {name}!\")"
   ]
  },
  {
   "cell_type": "code",
   "execution_count": 4,
   "metadata": {},
   "outputs": [
    {
     "name": "stdout",
     "output_type": "stream",
     "text": [
      "\n",
      "You'll be able to ride when you're a little older.\n"
     ]
    }
   ],
   "source": [
    "height = input(\"How tall are you, in inches? \")\n",
    "height = int(height)\n",
    "\n",
    "if height >= 48:\n",
    "    print(\"\\nYou're tall enough to ride!\")\n",
    "else:\n",
    "    print(\"\\nYou'll be able to ride when you're a little older.\")"
   ]
  },
  {
   "cell_type": "code",
   "execution_count": 6,
   "metadata": {},
   "outputs": [
    {
     "name": "stdout",
     "output_type": "stream",
     "text": [
      "1 2 0 1\n"
     ]
    }
   ],
   "source": [
    "a = 4 % 3\n",
    "\n",
    "b = 5 % 3\n",
    "\n",
    "c = 6 % 3\n",
    "\n",
    "d = 7 % 3\n",
    "\n",
    "print(a, b, c, d)"
   ]
  },
  {
   "cell_type": "code",
   "execution_count": 7,
   "metadata": {},
   "outputs": [
    {
     "name": "stdout",
     "output_type": "stream",
     "text": [
      "\n",
      "The number 65 is odd.\n"
     ]
    }
   ],
   "source": [
    "number = input(\"Enter a number, and I'll tell you if it's even or odd: \")\n",
    "number = int(number)\n",
    "\n",
    "if number % 2 == 0:\n",
    "    print(f\"\\nThe number {number} is even.\")\n",
    "else:\n",
    "    print(f\"\\nThe number {number} is odd.\")"
   ]
  },
  {
   "cell_type": "markdown",
   "metadata": {},
   "source": [
    "练习7-1：汽车租赁 　编写一个程序，询问用户要租赁什么样的汽车，并打印\n",
    "一条消息，下面是一个例子。\n",
    "Let me see if I can find you a Subaru.\n"
   ]
  },
  {
   "cell_type": "code",
   "execution_count": 8,
   "metadata": {},
   "outputs": [
    {
     "name": "stdout",
     "output_type": "stream",
     "text": [
      "Let me see if I can find you a VV.\n"
     ]
    }
   ],
   "source": [
    "msg = input('What kind of car would you like? ')\n",
    "\n",
    "print(f\"Let me see if I can find you a {msg}.\")"
   ]
  },
  {
   "cell_type": "markdown",
   "metadata": {},
   "source": [
    "练习7-2：餐馆订位 　编写一个程序，询问用户有多少人用餐。如果超过8位，\n",
    "就打印一条消息，指出没有空桌；否则指出有空桌。"
   ]
  },
  {
   "cell_type": "code",
   "execution_count": 9,
   "metadata": {},
   "outputs": [
    {
     "name": "stdout",
     "output_type": "stream",
     "text": [
      "You will have to wait for a table.\n"
     ]
    }
   ],
   "source": [
    "msg = input('How many people are in your dinner group? ')\n",
    "msg = int(msg)\n",
    "\n",
    "if msg > 8:\n",
    "    print('You will have to wait for a table.')\n",
    "else:\n",
    "    print('Your table is ready.')"
   ]
  },
  {
   "cell_type": "markdown",
   "metadata": {},
   "source": [
    "练习7-3：10的整数倍 　让用户输入一个数，并指出该数是否是10的整数倍。"
   ]
  },
  {
   "cell_type": "code",
   "execution_count": 10,
   "metadata": {},
   "outputs": [
    {
     "name": "stdout",
     "output_type": "stream",
     "text": [
      "This number is a multiple of 10.\n"
     ]
    }
   ],
   "source": [
    "number = input('Enter a number: ')\n",
    "\n",
    "if int(number) % 10 == 0:\n",
    "    print('This number is a multiple of 10.')\n",
    "else:\n",
    "    print('This number is not a multiple of 10.')"
   ]
  },
  {
   "cell_type": "code",
   "execution_count": 11,
   "metadata": {},
   "outputs": [
    {
     "name": "stdout",
     "output_type": "stream",
     "text": [
      "1\n",
      "2\n",
      "3\n",
      "4\n",
      "5\n"
     ]
    }
   ],
   "source": [
    "# 7.2 while 循环简介\n",
    "current_number = 1\n",
    "while current_number <= 5:\n",
    "    print(current_number)\n",
    "    current_number += 1\n"
   ]
  },
  {
   "cell_type": "code",
   "execution_count": 12,
   "metadata": {},
   "outputs": [
    {
     "name": "stdout",
     "output_type": "stream",
     "text": [
      "quit\n"
     ]
    }
   ],
   "source": [
    "# 7.2.2 让用户选择何时退出\n",
    "prompt = \"\\nTell me something, and I will repeat it back to you:\"\n",
    "prompt += \"\\nEnter 'quit' to end the program. \"\n",
    "\n",
    "message = \"\"\n",
    "while message != 'quit':\n",
    "    message = input(prompt)\n",
    "    print(message)"
   ]
  },
  {
   "cell_type": "code",
   "execution_count": 13,
   "metadata": {},
   "outputs": [
    {
     "name": "stdout",
     "output_type": "stream",
     "text": [
      "TFK\n"
     ]
    }
   ],
   "source": [
    "prompt = \"\\nTell me something, and I will repeat it back to you:\"\n",
    "prompt += \"\\nEnter 'quit' to end the program. \"\n",
    "message = \"\"\n",
    "while message != 'quit':\n",
    "    message = input(prompt)\n",
    "    if message != 'quit':\n",
    "        print(message)"
   ]
  },
  {
   "cell_type": "code",
   "execution_count": 14,
   "metadata": {},
   "outputs": [
    {
     "name": "stdout",
     "output_type": "stream",
     "text": [
      "TFK\n",
      "TFK\n",
      "QUIT\n"
     ]
    }
   ],
   "source": [
    "# 7.2.3 使用标志 flag\n",
    "\n",
    "prompt = \"\\nTell me something, and I will repeat it back to you:\"\n",
    "prompt += \"\\nEnter 'quit' to end the program. \"\n",
    "\n",
    "active = True\n",
    "while active:\n",
    "    message = input(prompt)\n",
    "    if message == 'quit':\n",
    "        active = False\n",
    "    else:\n",
    "        print(message)\n"
   ]
  },
  {
   "cell_type": "code",
   "execution_count": 15,
   "metadata": {},
   "outputs": [],
   "source": [
    "# 7.2.4 使用break 退出循环\n",
    "\n",
    "prompt = \"\\nPlease enter the name of a city you have visited:\"\n",
    "prompt += \"\\n(Enter 'quit' when you are finished.) \"\n",
    "\n",
    "while True:\n",
    "    city = input(prompt)\n",
    "    if city == 'quit':\n",
    "        break\n",
    "    else:\n",
    "        print(f\"I'd love to go to {city.title()}!\")"
   ]
  },
  {
   "cell_type": "code",
   "execution_count": 16,
   "metadata": {},
   "outputs": [
    {
     "name": "stdout",
     "output_type": "stream",
     "text": [
      "1\n",
      "3\n",
      "5\n",
      "7\n",
      "9\n"
     ]
    }
   ],
   "source": [
    "# 7.2.5 在循环中使用continue\n",
    "\n",
    "current_number = 0\n",
    "while current_number < 10:\n",
    "    current_number += 1\n",
    "    if current_number % 2 == 0:\n",
    "        continue\n",
    "    print(current_number)"
   ]
  },
  {
   "cell_type": "markdown",
   "metadata": {},
   "source": [
    "练习7-4：比萨配料 　编写一个循环，提示用户输入一系列比萨配料，并在用\n",
    "户输入'quit' 时结束循环。每当用户输入一种配料后，都打印一条消息，指\n",
    "出我们会在比萨中添加这种配料。"
   ]
  },
  {
   "cell_type": "code",
   "execution_count": 17,
   "metadata": {},
   "outputs": [
    {
     "name": "stdout",
     "output_type": "stream",
     "text": [
      "You have added a to your pizza.\n",
      "You have added v to your pizza.\n",
      "You have added b to your pizza.\n",
      "You have added c to your pizza.\n",
      "You have added d to your pizza.\n"
     ]
    }
   ],
   "source": [
    "pizza_toppings = []\n",
    "while True:\n",
    "    topping = input('Enter a topping: ')\n",
    "    if topping == 'quit':\n",
    "        break\n",
    "    pizza_toppings.append(topping)\n",
    "    print(f'You have added {topping} to your pizza.')"
   ]
  },
  {
   "cell_type": "markdown",
   "metadata": {},
   "source": [
    "练习7-5：电影票 　有家电影院根据观众的年龄收取不同的票价：不到3岁的观\n",
    "众免费；3～12岁的观众收费10美元；超过12岁的观众收费15美元。请编写一个\n",
    "循环，在其中询问用户的年龄，并指出其票价。"
   ]
  },
  {
   "cell_type": "code",
   "execution_count": 18,
   "metadata": {},
   "outputs": [
    {
     "name": "stdout",
     "output_type": "stream",
     "text": [
      "You pay $10.\n"
     ]
    }
   ],
   "source": [
    "age = input('Enter your age: ')\n",
    "\n",
    "if int(age) < 3:\n",
    "    print('You get in for free.')\n",
    "elif int(age) < 12:\n",
    "    print('You pay $10.')\n",
    "else:\n",
    "    print('You pay $15.')"
   ]
  },
  {
   "cell_type": "markdown",
   "metadata": {},
   "source": [
    "练习7-6：三种出路 　以不同的方式完成练习7-4或练习7-5，在程序中采取如\n",
    "下做法。\n",
    "在while 循环中使用条件测试来结束循环。\n",
    "使用变量active 来控制循环结束的时机。\n",
    "使用break 语句在用户输入'quit' 时退出循环。\n"
   ]
  },
  {
   "cell_type": "code",
   "execution_count": 20,
   "metadata": {},
   "outputs": [
    {
     "name": "stdout",
     "output_type": "stream",
     "text": [
      "You pay $15.\n"
     ]
    }
   ],
   "source": [
    "active = True\n",
    "\n",
    "while active:\n",
    "    age = input('Enter your age: ')\n",
    "    \n",
    "    if age == 'quit':\n",
    "        break\n",
    "    \n",
    "    if int(age) < 3:\n",
    "        print('You get in for free.')\n",
    "    elif int(age) < 12:\n",
    "        print('You pay $10.')\n",
    "    else:\n",
    "        print('You pay $15.')\n",
    "    active = False"
   ]
  },
  {
   "cell_type": "code",
   "execution_count": 23,
   "metadata": {},
   "outputs": [
    {
     "name": "stdout",
     "output_type": "stream",
     "text": [
      "Verifying user: Candace\n",
      "Verifying user: Brian\n",
      "Verifying user: Alice\n",
      "\n",
      "The following users have been confirmed:\n",
      "Candace\n",
      "Brian\n",
      "Alice\n"
     ]
    }
   ],
   "source": [
    "# 7.3 使用while 循环来处理列表和字典\n",
    "\n",
    "# 首先，创建一个待验证用户列表\n",
    "# 和一个用于存储已验证用户的空列表。\n",
    "\n",
    "unconfirmed_users = ['alice', 'brian', 'candace']\n",
    "confirmed_users = []\n",
    "\n",
    "# 验证每个用户，直到没有未验证用户为止。\n",
    "# 将每个经过验证的用户都移到已验证用户列表中。\n",
    "\n",
    "while unconfirmed_users:\n",
    "    current_user = unconfirmed_users.pop()\n",
    "    print(f\"Verifying user: {current_user.title()}\")\n",
    "    confirmed_users.append(current_user)\n",
    "    \n",
    "# 显示所有已验证的用户。\n",
    "print(\"\\nThe following users have been confirmed:\")\n",
    "for confirmed_user in confirmed_users:\n",
    "    print(confirmed_user.title())"
   ]
  },
  {
   "cell_type": "code",
   "execution_count": 26,
   "metadata": {},
   "outputs": [
    {
     "name": "stdout",
     "output_type": "stream",
     "text": [
      "['dog', 'cat', 'dog', 'goldfish', 'cat', 'rabbit', 'cat']\n",
      "['dog', 'dog', 'goldfish', 'rabbit']\n"
     ]
    }
   ],
   "source": [
    "# 7.3.2 删除为特定值的所有列表元素\n",
    "\n",
    "pets = ['dog', 'cat', 'dog', 'goldfish', 'cat', 'rabbit', 'cat']\n",
    "print(pets)\n",
    "\n",
    "while 'cat' in pets:\n",
    "    pets.remove('cat')\n",
    "\n",
    "print(pets)"
   ]
  },
  {
   "cell_type": "code",
   "execution_count": 27,
   "metadata": {},
   "outputs": [
    {
     "name": "stdout",
     "output_type": "stream",
     "text": [
      "\n",
      "--- Poll Results ---\n",
      "JC would like to climb A.\n",
      "JC2 would like to climb B.\n"
     ]
    }
   ],
   "source": [
    "# 7.3.3 使用用户输入来填充字典\n",
    "\n",
    "responses = {}\n",
    "\n",
    "# 设置一个标志，指出调查是否继续。\n",
    "polling_active = True\n",
    "\n",
    "while polling_active:\n",
    "    # 提示输入被调查者的名字和回答。\n",
    "    name = input(\"\\nWhat is your name? \")\n",
    "    response = input(\"Which mountain would you like to climb someday? \")\n",
    "    \n",
    "    # 将答卷存储在字典中。\n",
    "    responses[name] = response\n",
    "    \n",
    "    # 看看是否还有人要参与调查。\n",
    "    repeat = input(\"Would you like to let another person respond? (yes/ no) \")\n",
    "    if repeat == 'no':\n",
    "        polling_active = False\n",
    "        \n",
    "# 调查结束，显示结果。\n",
    "print(\"\\n--- Poll Results ---\")\n",
    "for name, response in responses.items():\n",
    "    print(f\"{name} would like to climb {response}.\")\n"
   ]
  },
  {
   "cell_type": "markdown",
   "metadata": {},
   "source": [
    "练习7-8：熟食店 　创建一个名为sandwich_orders 的列表，在其中包含各\n",
    "种三明治的名字，再创建一个名为finished_sandwiches 的空列表。遍历\n",
    "列表sandwich_orders ，对于其中的每种三明治，都打印一条消息，如I\n",
    "made your tuna sandwich ，并将其移到列表finished_sandwiches\n",
    "中。所有三明治都制作好后，打印一条消息，将这些三明治列出来。"
   ]
  },
  {
   "cell_type": "code",
   "execution_count": 31,
   "metadata": {},
   "outputs": [
    {
     "name": "stdout",
     "output_type": "stream",
     "text": [
      "I made your pastrami sandwich.\n",
      "I made your chicken sandwich.\n",
      "I made your pastrami sandwich.\n",
      "I made your tuna sandwich.\n",
      "I made your pastrami sandwich.\n",
      "All sandwiches have been made: \n"
     ]
    }
   ],
   "source": [
    "sandwich_orders = ['pastrami', 'tuna', 'pastrami', 'chicken', 'pastrami']\n",
    "\n",
    "finished_sandwiches = []\n",
    "\n",
    "while sandwich_orders:\n",
    "    current_sandwich = sandwich_orders.pop()\n",
    "    print(f'I made your {current_sandwich} sandwich.')\n",
    "    \n",
    "    finished_sandwiches.append(current_sandwich)\n",
    "    \n",
    "print('All sandwiches have been made: ')"
   ]
  },
  {
   "cell_type": "markdown",
   "metadata": {},
   "source": [
    "练习7-9：五香烟熏牛肉卖完了 　使用为完成练习7-8而创建的列表\n",
    "sandwich_orders ，并确保'pastrami' 在其中至少出现了三次。在程序\n",
    "开头附近添加这样的代码：打印一条消息，指出熟食店的五香烟熏牛肉\n",
    "（pastrami）卖完了；再使用一个while 循环将列表sandwich_orders 中\n",
    "的'pastrami' 都删除。确认最终的列表finished_sandwiches 未包\n",
    "含'pastrami' 。"
   ]
  },
  {
   "cell_type": "code",
   "execution_count": 32,
   "metadata": {},
   "outputs": [
    {
     "name": "stdout",
     "output_type": "stream",
     "text": [
      "The deli has run out of pastrami.\n",
      "I made your chicken sandwich.\n",
      "I made your tuna sandwich.\n",
      "All sandwiches have been made: \n",
      "chicken\n",
      "tuna\n"
     ]
    }
   ],
   "source": [
    "sandwich_orders = ['pastrami', 'tuna', 'pastrami', 'chicken', 'pastrami']\n",
    "\n",
    "finished_sandwiches = []\n",
    "\n",
    "print('The deli has run out of pastrami.')\n",
    "\n",
    "while 'pastrami' in sandwich_orders:\n",
    "    sandwich_orders.remove('pastrami')\n",
    "    \n",
    "while sandwich_orders:\n",
    "    current_sandwich = sandwich_orders.pop()\n",
    "    print(f'I made your {current_sandwich} sandwich.')\n",
    "    \n",
    "    finished_sandwiches.append(current_sandwich)\n",
    "\n",
    "print('All sandwiches have been made: ')\n",
    "for sandwich in finished_sandwiches:\n",
    "    print(sandwich)\n"
   ]
  },
  {
   "cell_type": "markdown",
   "metadata": {},
   "source": [
    "练习7-10：梦想的度假胜地 　编写一个程序，调查用户梦想的度假胜地。使用\n",
    "类似于下面的提示，并编写一个打印调查结果的代码块。\n",
    "If you could visit one place in the world, where would you go?"
   ]
  },
  {
   "cell_type": "code",
   "execution_count": 33,
   "metadata": {},
   "outputs": [
    {
     "name": "stdout",
     "output_type": "stream",
     "text": [
      "\n",
      "--- Poll Results ---\n",
      "JC would like to go to 1.\n"
     ]
    }
   ],
   "source": [
    "polling_active = True\n",
    "\n",
    "responses = {}\n",
    "\n",
    "while polling_active:\n",
    "    name = input('What is your name? ')\n",
    "    response = input('What is your dream vacation? ')\n",
    "    \n",
    "    responses[name] = response\n",
    "    \n",
    "    repeat = input('Would you like to let another person respond? (yes/ no) ')\n",
    "    if repeat == 'no':\n",
    "        polling_active = False\n",
    "        \n",
    "print('\\n--- Poll Results ---')\n",
    "for name, response in responses.items():\n",
    "    print(f'{name} would like to go to {response}.')"
   ]
  }
 ],
 "metadata": {
  "kernelspec": {
   "display_name": "py12",
   "language": "python",
   "name": "python3"
  },
  "language_info": {
   "codemirror_mode": {
    "name": "ipython",
    "version": 3
   },
   "file_extension": ".py",
   "mimetype": "text/x-python",
   "name": "python",
   "nbconvert_exporter": "python",
   "pygments_lexer": "ipython3",
   "version": "3.12.5"
  }
 },
 "nbformat": 4,
 "nbformat_minor": 2
}
