{
 "cells": [
  {
   "cell_type": "markdown",
   "metadata": {},
   "source": [
    "# 第 2 章 变量和简单数据类型"
   ]
  },
  {
   "cell_type": "code",
   "execution_count": 1,
   "metadata": {},
   "outputs": [
    {
     "name": "stdout",
     "output_type": "stream",
     "text": [
      "Hello Python world!\n"
     ]
    }
   ],
   "source": [
    "message = 'Hello Python world!'\n",
    "print(message)"
   ]
  },
  {
   "cell_type": "code",
   "execution_count": 2,
   "metadata": {},
   "outputs": [
    {
     "data": {
      "text/plain": [
       "'This is a string.'"
      ]
     },
     "execution_count": 2,
     "metadata": {},
     "output_type": "execute_result"
    }
   ],
   "source": [
    "\"This is a string.\"\n"
   ]
  },
  {
   "cell_type": "code",
   "execution_count": 3,
   "metadata": {},
   "outputs": [
    {
     "data": {
      "text/plain": [
       "'This is also a string.'"
      ]
     },
     "execution_count": 3,
     "metadata": {},
     "output_type": "execute_result"
    }
   ],
   "source": [
    "'This is also a string.'"
   ]
  },
  {
   "cell_type": "code",
   "execution_count": 4,
   "metadata": {},
   "outputs": [
    {
     "name": "stdout",
     "output_type": "stream",
     "text": [
      "Ada Lovelace\n"
     ]
    }
   ],
   "source": [
    "# Changing Case in a String with Methods\n",
    "name = \"ada lovelace\"\n",
    "print(name.title())\n"
   ]
  },
  {
   "cell_type": "code",
   "execution_count": 5,
   "metadata": {},
   "outputs": [
    {
     "name": "stdout",
     "output_type": "stream",
     "text": [
      "ADA LOVELACE\n",
      "ada lovelace\n"
     ]
    }
   ],
   "source": [
    "name = \"Ada Lovelace\"\n",
    "print(name.upper())\n",
    "print(name.lower())\n"
   ]
  },
  {
   "cell_type": "code",
   "execution_count": 6,
   "metadata": {},
   "outputs": [
    {
     "name": "stdout",
     "output_type": "stream",
     "text": [
      "ada lovelace\n",
      "Hello, Ada Lovelace!\n"
     ]
    }
   ],
   "source": [
    "first_name = \"ada\"\n",
    "last_name = \"lovelace\"\n",
    "full_name = f\"{first_name} {last_name}\"\n",
    "print(full_name)\n",
    "\n",
    "print(f\"Hello, {full_name.title()}!\")\n"
   ]
  },
  {
   "cell_type": "code",
   "execution_count": 7,
   "metadata": {},
   "outputs": [
    {
     "name": "stdout",
     "output_type": "stream",
     "text": [
      "Python\n",
      "\tPython\n",
      "Languages:\n",
      "Python\n",
      "C\n",
      "JavaScript\n"
     ]
    }
   ],
   "source": [
    "print(\"Python\")\n",
    "\n",
    "print(\"\\tPython\")\n",
    "print(\"Languages:\\nPython\\nC\\nJavaScript\")"
   ]
  },
  {
   "cell_type": "code",
   "execution_count": 8,
   "metadata": {},
   "outputs": [
    {
     "name": "stdout",
     "output_type": "stream",
     "text": [
      "python\n"
     ]
    },
    {
     "data": {
      "text/plain": [
       "'python '"
      ]
     },
     "execution_count": 8,
     "metadata": {},
     "output_type": "execute_result"
    }
   ],
   "source": [
    "favorite_language = 'python '\n",
    "print(f'{favorite_language.rstrip()}')\n",
    "favorite_language"
   ]
  },
  {
   "cell_type": "code",
   "execution_count": 9,
   "metadata": {},
   "outputs": [
    {
     "name": "stdout",
     "output_type": "stream",
     "text": [
      "Hello Eric, would you like to learn some Python today?\n"
     ]
    }
   ],
   "source": [
    "# 练习2-3：个性化消息 　用变量表示一个人的名字，并向其显示一条消息。显示的消息应非常简单，下面是一个例子。\n",
    "\n",
    "name = \"Eric\"\n",
    "print(f\"Hello {name}, would you like to learn some Python today?\")"
   ]
  },
  {
   "cell_type": "code",
   "execution_count": 10,
   "metadata": {},
   "outputs": [
    {
     "name": "stdout",
     "output_type": "stream",
     "text": [
      "Eric\n",
      "ERIC\n",
      "eric\n"
     ]
    }
   ],
   "source": [
    "# 练习2-4：调整名字的大小写 　用变量表示一个人的名字，再以小写、大写和首字母大写的方式显示这个人名。\n",
    "\n",
    "name = \"eric\"\n",
    "print(name.title())\n",
    "print(name.upper())\n",
    "print(name.lower())"
   ]
  },
  {
   "cell_type": "code",
   "execution_count": 11,
   "metadata": {},
   "outputs": [
    {
     "name": "stdout",
     "output_type": "stream",
     "text": [
      "Albert Einstein once said, \"A person who never made a mistake never tried anything new.\"\n",
      "Albert Einstein once said, \"A person who never made a mistake never tried anything new.\"\n",
      "Albert Einstein once said, \"A person who never made a mistake never tried anything new.\"\n"
     ]
    }
   ],
   "source": [
    "# 练习2-5：名言 　找一句你钦佩的名人说的名言，将其姓名和名言打印出来。输出应类似于下面这样（包括引号）。\n",
    "\n",
    "name = \"Albert Einstein\"\n",
    "quote = \"A person who never made a mistake never tried anything new.\"\n",
    "print(f'{name} once said, \"{quote}\"')\n",
    "print(name + ' once said, \"' + quote + '\"')\n",
    "print('{} once said, \"{}\"'.format(name, quote))"
   ]
  },
  {
   "cell_type": "code",
   "execution_count": 12,
   "metadata": {},
   "outputs": [
    {
     "name": "stdout",
     "output_type": "stream",
     "text": [
      "Albert Einstein once said, \"A person who never made a mistake never tried anything new.\"\n"
     ]
    }
   ],
   "source": [
    "# 练习2-6：名言2 　重复练习2-5，但用变量famous_person 表示名人的姓名，\n",
    "# 再创建要显示的消息并将其赋给变量message ，然后打印这条消息。\n",
    "\n",
    "famous_person = \"Albert Einstein\"\n",
    "message = \"A person who never made a mistake never tried anything new.\"\n",
    "print(f'{famous_person} once said, \"{message}\"')\n"
   ]
  },
  {
   "cell_type": "code",
   "execution_count": 13,
   "metadata": {},
   "outputs": [
    {
     "name": "stdout",
     "output_type": "stream",
     "text": [
      " \tEric \n",
      "  \n",
      "Eric \n",
      "  \n",
      " \tEric\n",
      "Eric\n"
     ]
    }
   ],
   "source": [
    "# 练习2-7：剔除人名中的空白 　用变量表示一个人的名字，并在其开头和末尾都包\n",
    "# 含一些空白字符。务必至少使用字符组合\"\\t\" 和\"\\n\" 各一次。\n",
    "\n",
    "#打印这个人名，显示其开头和末尾的空白。然后，分别使用剔除函数lstrip() 、\n",
    "# rstrip() 和strip() 对人名进行处理，并将结果打印出来。\n",
    "\n",
    "name = \" \\tEric \\n  \"\n",
    "print(name)\n",
    "print(name.lstrip())    # 去掉左边的空格\n",
    "print(name.rstrip())    # 去掉右边的空格\n",
    "print(name.strip())     # 去掉两边的空格\n"
   ]
  },
  {
   "cell_type": "code",
   "execution_count": 14,
   "metadata": {},
   "outputs": [
    {
     "name": "stdout",
     "output_type": "stream",
     "text": [
      "5 + 3 = 8\n",
      "10 - 2 = 8\n",
      "4 * 2 = 8\n",
      "16 / 2 = 8.0\n",
      "10 % 3 = 1\n",
      "2 ** 3 = 8\n"
     ]
    }
   ],
   "source": [
    "# 展示Python中的基本计算\n",
    "\n",
    "# 加法\n",
    "addition = 5 + 3\n",
    "print(f\"5 + 3 = {addition}\")\n",
    "\n",
    "# 减法\n",
    "subtraction = 10 - 2\n",
    "print(f\"10 - 2 = {subtraction}\")\n",
    "\n",
    "# 乘法\n",
    "multiplication = 4 * 2\n",
    "print(f\"4 * 2 = {multiplication}\")\n",
    "\n",
    "# 除法\n",
    "division = 16 / 2\n",
    "print(f\"16 / 2 = {division}\")\n",
    "\n",
    "# 取余\n",
    "modulus = 10 % 3\n",
    "print(f\"10 % 3 = {modulus}\")\n",
    "\n",
    "# 幂运算\n",
    "exponentiation = 2 ** 3\n",
    "print(f\"2 ** 3 = {exponentiation}\")"
   ]
  },
  {
   "cell_type": "code",
   "execution_count": 16,
   "metadata": {},
   "outputs": [
    {
     "name": "stdout",
     "output_type": "stream",
     "text": [
      "a=14;b=20\n"
     ]
    }
   ],
   "source": [
    "a = 2 + 3*4\n",
    "\n",
    "b = (2 + 3) * 4\n",
    "\n",
    "print('a={};b={}'.format(a,b))"
   ]
  },
  {
   "cell_type": "markdown",
   "metadata": {},
   "source": [
    "Python将所有带小数点的数称为浮点数 。大多数编程语言使用了这个术语，它指出了这\n",
    "样一个事实：小数点可出现在数的任何位置。每种编程语言都必须细心设计，以妥善地\n",
    "处理浮点数，确保不管小数点出现在什么位置，数的行为都是正常的。\n",
    "从很大程度上说，使用浮点数时无须考虑其行为。你只需输入要使用的数，Python通常\n",
    "会按你期望的方式处理它们\n"
   ]
  },
  {
   "cell_type": "code",
   "execution_count": 18,
   "metadata": {},
   "outputs": [
    {
     "name": "stdout",
     "output_type": "stream",
     "text": [
      "14000000000\n"
     ]
    }
   ],
   "source": [
    "universe_age = 14_000_000_000\n",
    "print(universe_age)"
   ]
  },
  {
   "cell_type": "code",
   "execution_count": 20,
   "metadata": {},
   "outputs": [
    {
     "name": "stdout",
     "output_type": "stream",
     "text": [
      "1 2 3\n"
     ]
    }
   ],
   "source": [
    "x, y, z = 1, 2, 3\n",
    "print(x, y, z)"
   ]
  },
  {
   "cell_type": "markdown",
   "metadata": {},
   "source": [
    "常量 类似于变量，但其值在程序的整个生命周期内保持不变。Python没有内置的常量类\n",
    "型，但Python程序员会使用全大写来指出应将某个变量视为常量，其值应始终不变。"
   ]
  },
  {
   "cell_type": "code",
   "execution_count": 21,
   "metadata": {},
   "outputs": [],
   "source": [
    "MAX_CONNECTIONS = 5000"
   ]
  }
 ],
 "metadata": {
  "kernelspec": {
   "display_name": "py12",
   "language": "python",
   "name": "python3"
  },
  "language_info": {
   "codemirror_mode": {
    "name": "ipython",
    "version": 3
   },
   "file_extension": ".py",
   "mimetype": "text/x-python",
   "name": "python",
   "nbconvert_exporter": "python",
   "pygments_lexer": "ipython3",
   "version": "3.12.5"
  }
 },
 "nbformat": 4,
 "nbformat_minor": 2
}
