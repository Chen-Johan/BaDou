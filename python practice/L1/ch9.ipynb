{
 "cells": [
  {
   "cell_type": "markdown",
   "metadata": {},
   "source": [
    "# 第 9 章 类"
   ]
  },
  {
   "cell_type": "code",
   "execution_count": 1,
   "metadata": {},
   "outputs": [],
   "source": [
    "class Dog:\n",
    "    \"\"\"一次模拟小狗的简单尝试。\"\"\"\n",
    "        \n",
    "    def __init__(self, name, age):\n",
    "        \n",
    "        self.name = name\n",
    "        self.age = age\n",
    "\n",
    "    def sit(self):\n",
    "        \"\"\"模拟小狗收到命令时蹲下。\"\"\"\n",
    "        print(f\"{self.name} is now sitting.\")\n",
    "        \n",
    "    def roll_over(self):\n",
    "        \"\"\"模拟小狗收到命令时打滚。\"\"\"\n",
    "        print(f\"{self.name} rolled over!\")"
   ]
  },
  {
   "cell_type": "code",
   "execution_count": 2,
   "metadata": {},
   "outputs": [
    {
     "name": "stdout",
     "output_type": "stream",
     "text": [
      "My dog's name is Willie.\n",
      "My dog is 6 years old.\n"
     ]
    }
   ],
   "source": [
    "my_dog = Dog('Willie', 6)\n",
    "\n",
    "print(f\"My dog's name is {my_dog.name}.\")\n",
    "print(f\"My dog is {my_dog.age} years old.\")"
   ]
  },
  {
   "cell_type": "code",
   "execution_count": 3,
   "metadata": {},
   "outputs": [
    {
     "data": {
      "text/plain": [
       "'Willie'"
      ]
     },
     "execution_count": 3,
     "metadata": {},
     "output_type": "execute_result"
    }
   ],
   "source": [
    "my_dog.name"
   ]
  },
  {
   "cell_type": "code",
   "execution_count": 4,
   "metadata": {},
   "outputs": [
    {
     "name": "stdout",
     "output_type": "stream",
     "text": [
      "Willie is now sitting.\n",
      "Willie rolled over!\n"
     ]
    }
   ],
   "source": [
    "my_dog.sit()\n",
    "my_dog.roll_over()\n"
   ]
  },
  {
   "cell_type": "code",
   "execution_count": 5,
   "metadata": {},
   "outputs": [
    {
     "name": "stdout",
     "output_type": "stream",
     "text": [
      "My dog's name is Willie.\n",
      "My dog is 6 years old.\n",
      "Willie is now sitting.\n",
      "\n",
      "Your dog's name is Lucy.\n",
      "Your dog is 3 years old.\n",
      "Lucy is now sitting.\n"
     ]
    }
   ],
   "source": [
    "my_dog = Dog('Willie', 6)\n",
    "your_dog = Dog('Lucy', 3)\n",
    "\n",
    "print(f\"My dog's name is {my_dog.name}.\")\n",
    "print(f\"My dog is {my_dog.age} years old.\")\n",
    "my_dog.sit()\n",
    "\n",
    "print(f\"\\nYour dog's name is {your_dog.name}.\")\n",
    "print(f\"Your dog is {your_dog.age} years old.\")\n",
    "your_dog.sit()"
   ]
  },
  {
   "cell_type": "markdown",
   "metadata": {},
   "source": [
    "练习9-1：餐馆 　创建一个名为Restaurant 的类，为其方法__init__()\n",
    "设置属性restaurant_name 和cuisine_type 。创建一个名为\n",
    "describe_restaurant() 的方法和一个名为open_restaurant() 的方\n",
    "法，前者打印前述两项信息，而后者打印一条消息，指出餐馆正在营业。\n",
    "\n",
    "根据这个类创建一个名为restaurant 的实例，分别打印其两个属性，再调用\n",
    "前述两个方法。"
   ]
  },
  {
   "cell_type": "code",
   "execution_count": 9,
   "metadata": {},
   "outputs": [
    {
     "name": "stdout",
     "output_type": "stream",
     "text": [
      "KFC\n",
      "Fast Food\n",
      "The restaurant's name is KFC.\n",
      "The restaurant's cuisine type is Fast Food.\n",
      "\n",
      "The restaurant KFC is open now.\n"
     ]
    }
   ],
   "source": [
    "class Restaurant:\n",
    "    \"\"\"一次模拟餐馆的简单尝试。\"\"\"\n",
    "    \n",
    "    def __init__(self, restaurant_name, cuisine_type):  # Corrected method name\n",
    "        self.restaurant_name = restaurant_name\n",
    "        self.cuisine_type = cuisine_type\n",
    "        \n",
    "    def describe_restaurant(self):\n",
    "        print(f\"The restaurant's name is {self.restaurant_name}.\")\n",
    "        print(f\"The restaurant's cuisine type is {self.cuisine_type}.\")\n",
    "        \n",
    "    def open_restaurant(self):\n",
    "        print(f\"\\nThe restaurant {self.restaurant_name} is open now.\")\n",
    "        \n",
    "\n",
    "restaurant = Restaurant('KFC', 'Fast Food')\n",
    "print(restaurant.restaurant_name)\n",
    "print(restaurant.cuisine_type)\n",
    "\n",
    "restaurant.describe_restaurant()\n",
    "restaurant.open_restaurant()\n"
   ]
  },
  {
   "cell_type": "markdown",
   "metadata": {},
   "source": [
    "练习9-2：三家餐馆 　根据为完成练习9-1而编写的类创建三个实例，并对每个\n",
    "实例调用方法describe_restaurant() 。"
   ]
  },
  {
   "cell_type": "code",
   "execution_count": 10,
   "metadata": {},
   "outputs": [
    {
     "name": "stdout",
     "output_type": "stream",
     "text": [
      "The restaurant's name is KFC.\n",
      "The restaurant's cuisine type is Fast Food.\n",
      "The restaurant's name is McDonald.\n",
      "The restaurant's cuisine type is Fast Food.\n",
      "The restaurant's name is Pizza Hut.\n",
      "The restaurant's cuisine type is Fast Food.\n"
     ]
    }
   ],
   "source": [
    "restaurant_1 = Restaurant('KFC', 'Fast Food')\n",
    "\n",
    "restaurant_2 = Restaurant('McDonald', 'Fast Food')\n",
    "\n",
    "restaurant_3 = Restaurant('Pizza Hut', 'Fast Food')\n",
    "\n",
    "restaurant_1.describe_restaurant()\n",
    "restaurant_2.describe_restaurant()\n",
    "restaurant_3.describe_restaurant()"
   ]
  },
  {
   "cell_type": "markdown",
   "metadata": {},
   "source": [
    "练习9-3：用户 　创建一个名为User 的类，其中包含属性first_name 和\n",
    "last_name ，以及用户简介通常会存储的其他几个属性。在类User 中定义一\n",
    "个名为describe_user() 的方法，用于打印用户信息摘要。再定义一个名为\n",
    "greet_user() 的方法，用于向用户发出个性化的问候。\n",
    "创建多个表示不同用户的实例，并对每个实例调用上述两个方法。"
   ]
  },
  {
   "cell_type": "code",
   "execution_count": 12,
   "metadata": {},
   "outputs": [
    {
     "name": "stdout",
     "output_type": "stream",
     "text": [
      "The user's first name is John.\n",
      "The user's last name is Doe.\n",
      "\n",
      "Hello, John Doe!\n"
     ]
    }
   ],
   "source": [
    "class User:\n",
    "    \"\"\"一次模拟用户简单尝试。\"\"\"\n",
    "    \n",
    "    def __init__(self, first_name, last_name):\n",
    "        self.first_name = first_name\n",
    "        self.last_name = last_name\n",
    "    \n",
    "    def describe_user(self):\n",
    "        print(f\"The user's first name is {self.first_name}.\")\n",
    "        print(f\"The user's last name is {self.last_name}.\")\n",
    "        \n",
    "    def greet_user(self):\n",
    "        print(f\"\\nHello, {self.first_name} {self.last_name}!\")\n",
    "    \n",
    "user = User('John', 'Doe')\n",
    "user.describe_user()\n",
    "user.greet_user()"
   ]
  },
  {
   "cell_type": "code",
   "execution_count": 13,
   "metadata": {},
   "outputs": [
    {
     "name": "stdout",
     "output_type": "stream",
     "text": [
      "2019 Audi A4\n"
     ]
    }
   ],
   "source": [
    "# 9.2 使用类和实例\n",
    "\n",
    "class Car:\n",
    "    \"\"\"一次模拟汽车的简单尝试。\"\"\"\n",
    "    \n",
    "    def __init__(self, make, model, year):\n",
    "        \"\"\"初始化描述汽车的属性。\"\"\"\n",
    "        self.make = make\n",
    "        self.model = model\n",
    "        self.year = year\n",
    "        \n",
    "    def get_descriptive_name(self):\n",
    "        \"\"\"返回整洁的描述性信息。\"\"\"\n",
    "        long_name = f\"{self.year} {self.make} {self.model}\"\n",
    "        return long_name.title()\n",
    "    \n",
    "my_new_car = Car('audi', 'a4', 2019)\n",
    "print(my_new_car.get_descriptive_name())"
   ]
  },
  {
   "cell_type": "code",
   "execution_count": 14,
   "metadata": {},
   "outputs": [
    {
     "name": "stdout",
     "output_type": "stream",
     "text": [
      "2019 Audi A4\n",
      "This car has 0 miles on it.\n"
     ]
    }
   ],
   "source": [
    "class Car:\n",
    "    \n",
    "    def __init__(self, make, model, year):\n",
    "        self.make = make\n",
    "        self.model = model\n",
    "        self.year = year\n",
    "        self.odometer_reading = 0\n",
    "        \n",
    "    def get_descriptive_name(self):\n",
    "        long_name = f\"{self.year} {self.make} {self.model}\"\n",
    "        return long_name.title()\n",
    "    \n",
    "    def read_odometer(self):\n",
    "        \"\"\"打印一条指出汽车里程的消息。\"\"\"\n",
    "        print(f\"This car has {self.odometer_reading} miles on it.\")\n",
    "    \n",
    "    \n",
    "my_new_car = Car('audi', 'a4', 2019)\n",
    "print(my_new_car.get_descriptive_name())\n",
    "my_new_car.read_odometer()\n",
    "        "
   ]
  },
  {
   "cell_type": "code",
   "execution_count": 15,
   "metadata": {},
   "outputs": [
    {
     "name": "stdout",
     "output_type": "stream",
     "text": [
      "This car has 23 miles on it.\n"
     ]
    }
   ],
   "source": [
    "# 9.2.3 修改属性的值\n",
    "# 3钟方法修改属性的值：直接通过实例进行修改、通过方法进行设置、通过方法进行递增（增加特定的值）。\n",
    "\n",
    "# 1.直接修改属性的值\n",
    "my_new_car.odometer_reading = 23\n",
    "my_new_car.read_odometer()\n"
   ]
  },
  {
   "cell_type": "code",
   "execution_count": 18,
   "metadata": {},
   "outputs": [
    {
     "name": "stdout",
     "output_type": "stream",
     "text": [
      "2019 Audi A4\n",
      "This car has 23 miles on it.\n"
     ]
    }
   ],
   "source": [
    "# 2.通过方法修改属性的值\n",
    "class Car:\n",
    "    \n",
    "    def __init__(self, make, model, year):\n",
    "        self.make = make\n",
    "        self.model = model\n",
    "        self.year = year\n",
    "        self.odometer_reading = 0\n",
    "        \n",
    "    def get_descriptive_name(self):\n",
    "        long_name = f\"{self.year} {self.make} {self.model}\"\n",
    "        return long_name.title()\n",
    "    \n",
    "    def read_odometer(self):\n",
    "        print(f\"This car has {self.odometer_reading} miles on it.\")\n",
    "    \n",
    "    def update_odometer(self, mileage):\n",
    "        self.odometer_reading = mileage\n",
    "\n",
    "\n",
    "my_new_car = Car('audi', 'a4', 2019)\n",
    "print(my_new_car.get_descriptive_name())\n",
    "\n",
    "my_new_car.update_odometer(23)\n",
    "my_new_car.read_odometer()"
   ]
  },
  {
   "cell_type": "code",
   "execution_count": 21,
   "metadata": {},
   "outputs": [
    {
     "name": "stdout",
     "output_type": "stream",
     "text": [
      "2015 Subaru Outback\n",
      "This car has 23500 miles on it.\n",
      "This car has 23600 miles on it.\n"
     ]
    }
   ],
   "source": [
    "# 3.通过方法对属性的值进行递增\n",
    "class Car:\n",
    "    \n",
    "    def __init__(self, make, model, year):\n",
    "        self.make = make\n",
    "        self.model = model\n",
    "        self.year = year\n",
    "        self.odometer_reading = 0\n",
    "        \n",
    "    def get_descriptive_name(self):\n",
    "        long_name = f\"{self.year} {self.make} {self.model}\"\n",
    "        return long_name.title()\n",
    "    \n",
    "    def read_odometer(self):\n",
    "        print(f\"This car has {self.odometer_reading} miles on it.\")\n",
    "    \n",
    "    def update_odometer(self, mileage):\n",
    "        self.odometer_reading = mileage\n",
    "        \n",
    "    def increment_odometer(self, miles):\n",
    "        self.odometer_reading += miles\n",
    "        \n",
    "my_used_car = Car('subaru', 'outback', 2015)\n",
    "print(my_used_car.get_descriptive_name())\n",
    "\n",
    "my_used_car.update_odometer(23500)\n",
    "my_used_car.read_odometer()\n",
    "\n",
    "my_used_car.increment_odometer(100)\n",
    "my_used_car.read_odometer()"
   ]
  },
  {
   "cell_type": "markdown",
   "metadata": {},
   "source": [
    "练习9-4：就餐人数 　在为完成练习9-1而编写的程序中，添加一个名为\n",
    "number_served 的属性，并将其默认值设置为0。根据这个类创建一个名为\n",
    "restaurant 的实例。打印有多少人在这家餐馆就餐过，然后修改这个值并再\n",
    "次打印它。\n",
    "\n",
    "添加一个名为set_number_served() 的方法，让你能够设置就餐人数。调\n",
    "用这个方法并向它传递一个值，然后再次打印这个值。\n",
    "\n",
    "添加一个名为increment_number_served() 的方法，让你能够将就餐人数\n",
    "递增。调用这个方法并向它传递一个这样的值：你认为这家餐馆每天可能接待\n",
    "的就餐人数。\n"
   ]
  },
  {
   "cell_type": "code",
   "execution_count": 22,
   "metadata": {},
   "outputs": [
    {
     "name": "stdout",
     "output_type": "stream",
     "text": [
      "Number served: 0\n",
      "Number served after modification: 10\n",
      "Number served after set_number_served: 20\n",
      "Number served after increment_number_served: 50\n"
     ]
    }
   ],
   "source": [
    "class Restaurant:\n",
    "    \"\"\"一次模拟餐馆的简单尝试。\"\"\"\n",
    "    \n",
    "    def __init__(self, restaurant_name, cuisine_type):\n",
    "        self.restaurant_name = restaurant_name\n",
    "        self.cuisine_type = cuisine_type\n",
    "        self.number_served = 0  # 添加默认值为0的属性\n",
    "        \n",
    "    def describe_restaurant(self):\n",
    "        print(f\"The restaurant's name is {self.restaurant_name}.\")\n",
    "        print(f\"The restaurant's cuisine type is {self.cuisine_type}.\")\n",
    "        \n",
    "    def open_restaurant(self):\n",
    "        print(f\"\\nThe restaurant {self.restaurant_name} is open now.\")\n",
    "        \n",
    "    def set_number_served(self, number):\n",
    "        self.number_served = number\n",
    "        \n",
    "    def increment_number_served(self, number):\n",
    "        self.number_served += number\n",
    "\n",
    "# 创建一个名为restaurant的实例\n",
    "restaurant = Restaurant('KFC', 'Fast Food')\n",
    "\n",
    "# 打印有多少人在这家餐馆就餐过\n",
    "print(f\"Number served: {restaurant.number_served}\")\n",
    "\n",
    "# 修改这个值并再次打印它\n",
    "restaurant.number_served = 10\n",
    "print(f\"Number served after modification: {restaurant.number_served}\")\n",
    "\n",
    "# 调用set_number_served()方法并向它传递一个值，然后再次打印这个值\n",
    "restaurant.set_number_served(20)\n",
    "print(f\"Number served after set_number_served: {restaurant.number_served}\")\n",
    "\n",
    "# 调用increment_number_served()方法并向它传递一个值，然后再次打印这个值\n",
    "restaurant.increment_number_served(30)\n",
    "print(f\"Number served after increment_number_served: {restaurant.number_served}\")\n"
   ]
  },
  {
   "cell_type": "markdown",
   "metadata": {},
   "source": [
    "练习9-5：尝试登录次数 　在为完成练习9-3而编写的User 类中，添加一个名\n",
    "为login_attempts 的属性。编写一个名为\n",
    "increment_login_attempts() 的方法，将属性login_attempts 的值\n",
    "加1。再编写一个名为reset_login_attempts() 的方法，将属性\n",
    "login_attempts 的值重置为0。\n",
    "\n",
    "根据User 类创建一个实例，再调用方法increment_login_attempts()\n",
    "多次。打印属性login_attempts 的值，确认它被正确地递增。然后，调用\n",
    "方法reset_login_attempts() ，并再次打印属性login_attempts 的\n",
    "值，确认它被重置为0。"
   ]
  },
  {
   "cell_type": "code",
   "execution_count": 23,
   "metadata": {},
   "outputs": [
    {
     "name": "stdout",
     "output_type": "stream",
     "text": [
      "Login attempts: 3\n",
      "Login attempts after reset: 0\n"
     ]
    }
   ],
   "source": [
    "class User:\n",
    "    \"\"\"一次模拟用户简单尝试。\"\"\"\n",
    "    \n",
    "    def __init__(self, first_name, last_name):\n",
    "        self.first_name = first_name\n",
    "        self.last_name = last_name\n",
    "        self.login_attempts = 0  # 添加login_attempts属性\n",
    "    \n",
    "    def describe_user(self):\n",
    "        print(f\"The user's first name is {self.first_name}.\")\n",
    "        print(f\"The user's last name is {self.last_name}.\")\n",
    "        \n",
    "    def greet_user(self):\n",
    "        print(f\"\\nHello, {self.first_name} {self.last_name}!\")\n",
    "        \n",
    "    def increment_login_attempts(self):\n",
    "        self.login_attempts += 1\n",
    "        \n",
    "    def reset_login_attempts(self):\n",
    "        self.login_attempts = 0\n",
    "\n",
    "# 创建一个User类的实例\n",
    "user = User('John', 'Doe')\n",
    "\n",
    "# 调用increment_login_attempts()方法多次\n",
    "user.increment_login_attempts()\n",
    "user.increment_login_attempts()\n",
    "user.increment_login_attempts()\n",
    "\n",
    "# 打印login_attempts的值，确认它被正确地递增\n",
    "print(f\"Login attempts: {user.login_attempts}\")\n",
    "\n",
    "# 调用reset_login_attempts()方法，并再次打印login_attempts的值\n",
    "user.reset_login_attempts()\n",
    "print(f\"Login attempts after reset: {user.login_attempts}\")"
   ]
  },
  {
   "cell_type": "code",
   "execution_count": 24,
   "metadata": {},
   "outputs": [
    {
     "name": "stdout",
     "output_type": "stream",
     "text": [
      "2019 Tesla Model S\n"
     ]
    }
   ],
   "source": [
    "# 9.3  继承\n",
    "\n",
    "class Car:\n",
    "    \"\"\"一次模拟汽车的简单尝试。\"\"\"\n",
    "    \n",
    "    def __init__(self, make, model, year):\n",
    "        self.make = make\n",
    "        self.model = model\n",
    "        self.year = year\n",
    "        self.odometer_reading = 0\n",
    "        \n",
    "    def get_descriptive_name(self):\n",
    "        long_name = f\"{self.year} {self.make} {self.model}\"\n",
    "        return long_name.title()\n",
    "    \n",
    "    def read_odometer(self):\n",
    "        print(f\"This car has {self.odometer_reading} miles on it.\")\n",
    "        \n",
    "    def update_odometer(self, mileage):\n",
    "        if mileage >= self.odometer_reading:\n",
    "            self.odometer_reading = mileage\n",
    "        else:\n",
    "            print(\"You can't roll back an odometer!\")\n",
    "            \n",
    "    def increment_odometer(self, miles):\n",
    "        self.odometer_reading += miles\n",
    "        \n",
    "\n",
    "class ElectricCar(Car):\n",
    "    \"\"\"电动汽车的独特之处。\"\"\"\n",
    "    \n",
    "    def __init__(self, make, model, year):\n",
    "        \"\"\"初始化父类的属性。\"\"\"\n",
    "        super().__init__(make, model, year)\n",
    "        \n",
    "        \n",
    "\n",
    "my_tesla = ElectricCar('tesla', 'model s', 2019)\n",
    "print(my_tesla.get_descriptive_name())\n"
   ]
  },
  {
   "cell_type": "code",
   "execution_count": 26,
   "metadata": {},
   "outputs": [
    {
     "name": "stdout",
     "output_type": "stream",
     "text": [
      "2019 Tesla Model S\n",
      "This car has a 75-kWh battery.\n"
     ]
    }
   ],
   "source": [
    "# 9.3.2 给子类定义属性和方法\n",
    "class Car:\n",
    "    \"\"\"一次模拟汽车的简单尝试。\"\"\"\n",
    "    \n",
    "    def __init__(self, make, model, year):\n",
    "        self.make = make\n",
    "        self.model = model\n",
    "        self.year = year\n",
    "        self.odometer_reading = 0\n",
    "        \n",
    "    def get_descriptive_name(self):\n",
    "        long_name = f\"{self.year} {self.make} {self.model}\"\n",
    "        return long_name.title()\n",
    "    \n",
    "    def read_odometer(self):\n",
    "        print(f\"This car has {self.odometer_reading} miles on it.\")\n",
    "        \n",
    "    def update_odometer(self, mileage):\n",
    "        if mileage >= self.odometer_reading:\n",
    "            self.odometer_reading = mileage\n",
    "        else:\n",
    "            print(\"You can't roll back an odometer!\")\n",
    "            \n",
    "    def increment_odometer(self, miles):\n",
    "        self.odometer_reading += miles\n",
    "        \n",
    "\n",
    "class ElectricCar(Car):\n",
    "    \"\"\"电动汽车的独特之处。\"\"\"\n",
    "    \n",
    "    def __init__(self, make, model, year):\n",
    "        \"\"\"初始化父类的属性。\"\"\"\n",
    "        super().__init__(make, model, year)\n",
    "        self.battery_size = 75\n",
    "    \n",
    "    def describe_battery(self):\n",
    "        \"\"\"打印一条描述电瓶容量的消息。\"\"\"\n",
    "        print(f\"This car has a {self.battery_size}-kWh battery.\")\n",
    "        \n",
    "\n",
    "\n",
    "my_tesla = ElectricCar('tesla', 'model s', 2019)\n",
    "print(my_tesla.get_descriptive_name())\n",
    "my_tesla.describe_battery()\n",
    "\n"
   ]
  },
  {
   "cell_type": "code",
   "execution_count": null,
   "metadata": {},
   "outputs": [],
   "source": [
    "# 9.3.3 重写父类的方法\n",
    "'''\n",
    "class ElectricCar(Car):\n",
    "    --snip--\n",
    "    def fill_gas_tank(self):\n",
    "        \"\"\"电动汽车没有油箱。\"\"\"\n",
    "        print(\"This car doesn't need a gas tank!\")\n",
    "\n",
    "'''"
   ]
  },
  {
   "cell_type": "code",
   "execution_count": 28,
   "metadata": {},
   "outputs": [
    {
     "name": "stdout",
     "output_type": "stream",
     "text": [
      "2019 Tesla Model S\n",
      "This car has a 75-kWh battery.\n"
     ]
    }
   ],
   "source": [
    "class Car:\n",
    "    \"\"\"一次模拟汽车的简单尝试。\"\"\"\n",
    "    \n",
    "    def __init__(self, make, model, year):\n",
    "        self.make = make\n",
    "        self.model = model\n",
    "        self.year = year\n",
    "        self.odometer_reading = 0\n",
    "        \n",
    "    def get_descriptive_name(self):\n",
    "        long_name = f\"{self.year} {self.make} {self.model}\"\n",
    "        return long_name.title()\n",
    "    \n",
    "    def read_odometer(self):\n",
    "        print(f\"This car has {self.odometer_reading} miles on it.\")\n",
    "        \n",
    "    def update_odometer(self, mileage):\n",
    "        if mileage >= self.odometer_reading:\n",
    "            self.odometer_reading = mileage\n",
    "        else:\n",
    "            print(\"You can't roll back an odometer!\")\n",
    "            \n",
    "    def increment_odometer(self, miles):\n",
    "        self.odometer_reading += miles\n",
    "\n",
    "class Battery:\n",
    "    \"\"\"一次模拟电动汽车电瓶的简单尝试。\"\"\"\n",
    "    \n",
    "    def __init__(self, battery_size=75):\n",
    "        \"\"\"初始化电瓶的属性。\"\"\"\n",
    "        self.battery_size = battery_size\n",
    "        \n",
    "    def describe_battery(self):\n",
    "        \"\"\"打印一条描述电瓶容量的消息。\"\"\"\n",
    "        print(f\"This car has a {self.battery_size}-kWh battery.\")\n",
    "\n",
    "class ElectricCar(Car):\n",
    "    \"\"\"电动汽车的独特之处。\"\"\"\n",
    "    \n",
    "    def __init__(self, make, model, year):\n",
    "        \"\"\"\n",
    "        初始化父类的属性。\n",
    "        再初始化电动汽车特有的属性。\n",
    "        \"\"\"\n",
    "        super().__init__(make, model, year)\n",
    "        self.battery = Battery()\n",
    "\n",
    "my_tesla = ElectricCar('tesla', 'model s', 2019)\n",
    "print(my_tesla.get_descriptive_name())\n",
    "my_tesla.battery.describe_battery()\n"
   ]
  },
  {
   "cell_type": "code",
   "execution_count": 29,
   "metadata": {},
   "outputs": [
    {
     "name": "stdout",
     "output_type": "stream",
     "text": [
      "2019 Tesla Model S\n",
      "This car has a 75-kWh battery.\n",
      "This car can go about 260 miles on a full charge.\n"
     ]
    }
   ],
   "source": [
    "class Car:\n",
    "    \"\"\"一次模拟汽车的简单尝试。\"\"\"\n",
    "    \n",
    "    def __init__(self, make, model, year):\n",
    "        self.make = make\n",
    "        self.model = model\n",
    "        self.year = year\n",
    "        self.odometer_reading = 0\n",
    "        \n",
    "    def get_descriptive_name(self):\n",
    "        long_name = f\"{self.year} {self.make} {self.model}\"\n",
    "        return long_name.title()\n",
    "    \n",
    "    def read_odometer(self):\n",
    "        print(f\"This car has {self.odometer_reading} miles on it.\")\n",
    "        \n",
    "    def update_odometer(self, mileage):\n",
    "        if mileage >= self.odometer_reading:\n",
    "            self.odometer_reading = mileage\n",
    "        else:\n",
    "            print(\"You can't roll back an odometer!\")\n",
    "            \n",
    "    def increment_odometer(self, miles):\n",
    "        self.odometer_reading += miles\n",
    "\n",
    "class Battery:\n",
    "    \"\"\"一次模拟电动汽车电瓶的简单尝试。\"\"\"\n",
    "    \n",
    "    def __init__(self, battery_size=75):\n",
    "        \"\"\"初始化电瓶的属性。\"\"\"\n",
    "        self.battery_size = battery_size\n",
    "        \n",
    "    def describe_battery(self):\n",
    "        \"\"\"打印一条描述电瓶容量的消息。\"\"\"\n",
    "        print(f\"This car has a {self.battery_size}-kWh battery.\")\n",
    "    \n",
    "    def get_range(self):\n",
    "        \"\"\"打印一条消息，指出电瓶的续航里程。\"\"\"\n",
    "        if self.battery_size == 75:\n",
    "            range = 260\n",
    "        elif self.battery_size == 100:\n",
    "            range = 315\n",
    "        print(f\"This car can go about {range} miles on a full charge.\")\n",
    "\n",
    "class ElectricCar(Car):\n",
    "    \"\"\"电动汽车的独特之处。\"\"\"\n",
    "    \n",
    "    def __init__(self, make, model, year):\n",
    "        \"\"\"\n",
    "        初始化父类的属性。\n",
    "        再初始化电动汽车特有的属性。\n",
    "        \"\"\"\n",
    "        super().__init__(make, model, year)\n",
    "        self.battery = Battery()\n",
    "\n",
    "my_tesla = ElectricCar('tesla', 'model s', 2019)\n",
    "print(my_tesla.get_descriptive_name())\n",
    "my_tesla.battery.describe_battery()\n",
    "my_tesla.battery.get_range()\n"
   ]
  },
  {
   "cell_type": "markdown",
   "metadata": {},
   "source": [
    "练习9-6：冰激凌小店 　冰激凌小店是一种特殊的餐馆。编写一个名为\n",
    "IceCreamStand 的类，让它继承为完成练习9-1或练习9-4而编写的\n",
    "Restaurant 类。这两个版本的Restaurant 类都可以，挑选你更喜欢的那\n",
    "个即可。添加一个名为flavors 的属性，用于存储一个由各种口味的冰激凌组\n",
    "成的列表。编写一个显示这些冰激凌的方法。创建一个IceCreamStand 实\n",
    "例，并调用这个方法。\n"
   ]
  },
  {
   "cell_type": "code",
   "execution_count": 31,
   "metadata": {},
   "outputs": [
    {
     "name": "stdout",
     "output_type": "stream",
     "text": [
      "Flavors: ['apple', 'banana', 'cherry']\n"
     ]
    }
   ],
   "source": [
    "class IceCreamStand(Restaurant):\n",
    "    def __init__(self, restaurant_name, cuisine_type):\n",
    "        super().__init__(restaurant_name, cuisine_type)\n",
    "        self.flavors = ['apple', 'banana', 'cherry']\n",
    "        \n",
    "    def describe_flavors(self):\n",
    "        print(f\"Flavors: {self.flavors}\")\n",
    "        \n",
    "\n",
    "ice_cream_stand = IceCreamStand('Baskin Robbins', 'Ice Cream')\n",
    "ice_cream_stand.describe_flavors()"
   ]
  },
  {
   "cell_type": "markdown",
   "metadata": {},
   "source": [
    "练习9-7：管理员 　管理员是一种特殊的用户。编写一个名为Admin 的类，让\n",
    "它继承为完成练习9-3或练习9-5而编写的User 类。添加一个名为\n",
    "privileges 的属性，用于存储一个由字符串（如\"can add post\" 、\"can\n",
    "delete post\" 、\"can ban user\" 等）组成的列表。编写一个名为\n",
    "show_privileges() 的方法，显示管理员的权限。创建一个Admin 实例，\n",
    "并调用这个方法。\n"
   ]
  },
  {
   "cell_type": "code",
   "execution_count": 32,
   "metadata": {},
   "outputs": [
    {
     "name": "stdout",
     "output_type": "stream",
     "text": [
      "Privileges: ['can add post', 'can delete post', 'can ban user']\n"
     ]
    }
   ],
   "source": [
    "class Admin(User):\n",
    "    def __init__(self, first_name, last_name):\n",
    "        super().__init__(first_name, last_name)\n",
    "        self.privileges = ['can add post', 'can delete post', 'can ban user']\n",
    "        \n",
    "    def show_privileges(self):\n",
    "        print(f\"Privileges: {self.privileges}\")\n",
    "\n",
    "admin = Admin('John', 'Doe')\n",
    "admin.show_privileges()"
   ]
  },
  {
   "cell_type": "markdown",
   "metadata": {},
   "source": [
    "练习9-8：权限 　编写一个名为Privileges 的类，它只有一个属性\n",
    "privileges ，其中存储了练习9-7所述的字符串列表。将方法\n",
    "show_privileges() 移到这个类中。在Admin 类中，将一个Privileges\n",
    "实例用作其属性。创建一个Admin 实例，并使用方法show_privileges()\n",
    "来显示其权限。\n"
   ]
  },
  {
   "cell_type": "code",
   "execution_count": 33,
   "metadata": {},
   "outputs": [
    {
     "name": "stdout",
     "output_type": "stream",
     "text": [
      "Privileges: ['can add post', 'can delete post', 'can ban user']\n"
     ]
    }
   ],
   "source": [
    "class Privileges:\n",
    "    def __init__(self):\n",
    "        self.privileges = ['can add post', 'can delete post', 'can ban user']\n",
    "        \n",
    "    def show_privileges(self):\n",
    "        print(f\"Privileges: {self.privileges}\")\n",
    "        \n",
    "class Admin(User):\n",
    "    def __init__(self, first_name, last_name):\n",
    "        super().__init__(first_name, last_name)\n",
    "        self.privileges = Privileges()\n",
    "\n",
    "admin = Admin('John', 'Doe')\n",
    "admin.privileges.show_privileges()"
   ]
  },
  {
   "cell_type": "markdown",
   "metadata": {},
   "source": [
    "练习9-9：电瓶升级 　在本节最后一个electric_car.py版本中，给Battery\n",
    "类添加一个名为upgrade_battery() 的方法。该方法检查电瓶容量，如果不\n",
    "是100，就将其设置为100。创建一辆电瓶容量为默认值的电动汽车，调用方法\n",
    "get_range() ，然后对电瓶进行升级，并再次调用get_range() 。你将看\n",
    "到这辆汽车的续航里程增加了。"
   ]
  },
  {
   "cell_type": "code",
   "execution_count": 35,
   "metadata": {},
   "outputs": [
    {
     "name": "stdout",
     "output_type": "stream",
     "text": [
      "2019 Tesla Model S\n",
      "This car has a 75-kWh battery.\n",
      "This car can go about 260 miles on a full charge.\n",
      "\n",
      "Upgrading the battery to 100 kWh.\n",
      "This car has a 100-kWh battery.\n"
     ]
    }
   ],
   "source": [
    "class Car:\n",
    "    \"\"\"一次模拟汽车的简单尝试。\"\"\"\n",
    "    \n",
    "    def __init__(self, make, model, year):\n",
    "        self.make = make\n",
    "        self.model = model\n",
    "        self.year = year\n",
    "        self.odometer_reading = 0\n",
    "        \n",
    "    def get_descriptive_name(self):\n",
    "        long_name = f\"{self.year} {self.make} {self.model}\"\n",
    "        return long_name.title()\n",
    "    \n",
    "    def read_odometer(self):\n",
    "        print(f\"This car has {self.odometer_reading} miles on it.\")\n",
    "        \n",
    "    def update_odometer(self, mileage):\n",
    "        if mileage >= self.odometer_reading:\n",
    "            self.odometer_reading = mileage\n",
    "        else:\n",
    "            print(\"You can't roll back an odometer!\")\n",
    "            \n",
    "    def increment_odometer(self, miles):\n",
    "        self.odometer_reading += miles\n",
    "\n",
    "class Battery:\n",
    "    \"\"\"一次模拟电动汽车电瓶的简单尝试。\"\"\"\n",
    "    \n",
    "    def __init__(self, battery_size=75):\n",
    "        \"\"\"初始化电瓶的属性。\"\"\"\n",
    "        self.battery_size = battery_size\n",
    "        \n",
    "    def describe_battery(self):\n",
    "        \"\"\"打印一条描述电瓶容量的消息。\"\"\"\n",
    "        print(f\"This car has a {self.battery_size}-kWh battery.\")\n",
    "    \n",
    "    def get_range(self):\n",
    "        \"\"\"打印一条消息，指出电瓶的续航里程。\"\"\"\n",
    "        if self.battery_size == 75:\n",
    "            range = 260\n",
    "        elif self.battery_size == 100:\n",
    "            range = 315\n",
    "        print(f\"This car can go about {range} miles on a full charge.\")\n",
    "        \n",
    "    def upgrade_battery(self):\n",
    "        if self.battery_size != 100:\n",
    "            print(\"\\nUpgrading the battery to 100 kWh.\")\n",
    "            self.battery_size = 100\n",
    "\n",
    "class ElectricCar(Car):\n",
    "    \"\"\"电动汽车的独特之处。\"\"\"\n",
    "    \n",
    "    def __init__(self, make, model, year):\n",
    "        \"\"\"\n",
    "        初始化父类的属性。\n",
    "        再初始化电动汽车特有的属性。\n",
    "        \"\"\"\n",
    "        super().__init__(make, model, year)\n",
    "        self.battery = Battery()\n",
    "\n",
    "\n",
    "my_tesla = ElectricCar('tesla', 'model s', 2019)\n",
    "print(my_tesla.get_descriptive_name())\n",
    "my_tesla.battery.describe_battery()\n",
    "my_tesla.battery.get_range()\n",
    "\n",
    "my_tesla.battery.upgrade_battery()\n",
    "my_tesla.battery.describe_battery()"
   ]
  },
  {
   "cell_type": "code",
   "execution_count": 36,
   "metadata": {},
   "outputs": [
    {
     "data": {
      "text/plain": [
       "1"
      ]
     },
     "execution_count": 36,
     "metadata": {},
     "output_type": "execute_result"
    }
   ],
   "source": [
    "# 9.5 Python标准库\n",
    "\n",
    "from random import randint\n",
    "\n",
    "randint(1, 6)"
   ]
  },
  {
   "cell_type": "markdown",
   "metadata": {},
   "source": [
    "练习9-13：骰子 　创建一个Die 类，它包含一个名为sides 的属性，该属性\n",
    "的默认值为6。编写一个名为roll_die() 的方法，它打印位于1和骰子面数之\n",
    "间的随机数。创建一个6面的骰子再掷10次。\n",
    "\n",
    "创建一个10面的骰子和一个20面的骰子，再分别掷10次。"
   ]
  },
  {
   "cell_type": "code",
   "execution_count": 56,
   "metadata": {},
   "outputs": [
    {
     "name": "stdout",
     "output_type": "stream",
     "text": [
      "5\n",
      "3\n",
      "6\n",
      "4\n",
      "5\n",
      "1\n",
      "6\n",
      "1\n",
      "5\n",
      "4\n",
      "2\n",
      "2\n",
      "3\n",
      "2\n",
      "1\n",
      "7\n",
      "10\n",
      "3\n",
      "7\n",
      "1\n"
     ]
    }
   ],
   "source": [
    "from random import randint\n",
    "\n",
    "class Die:\n",
    "    def __init__(self, sides=6):\n",
    "        self.sides = sides  # Corrected attribute assignment\n",
    "        \n",
    "    def roll_dice(self):\n",
    "        return randint(1, self.sides)\n",
    "    \n",
    "i = 0 \n",
    "die_6 = Die(sides=6)  # Create an instance of Die\n",
    "while i < 10:\n",
    "    result = die_6.roll_dice()  # Call the method on the instance\n",
    "    print(result)\n",
    "    i += 1\n",
    "    \n",
    "    \n",
    "die_10 = Die(sides=10)  # Create an instance of Die\n",
    "i = 0\n",
    "while i < 10:\n",
    "    result = die_10.roll_dice()  # Call the method on the instance\n",
    "    print(result)\n",
    "    i += 1\n"
   ]
  },
  {
   "cell_type": "markdown",
   "metadata": {},
   "source": [
    "练习9-14：彩票 　创建一个列表或元组，其中包含10个数和5个字母。从这个\n",
    "列表或元组中随机选择4个数或字母，并打印一条消息，指出只要彩票上是这4\n",
    "个数或字母，就中大奖了。"
   ]
  },
  {
   "cell_type": "code",
   "execution_count": 57,
   "metadata": {},
   "outputs": [
    {
     "name": "stdout",
     "output_type": "stream",
     "text": [
      "Winning ticket: [2, 'C', 6, 4]\n",
      "If your ticket has these numbers or letters, you win the jackpot!\n"
     ]
    }
   ],
   "source": [
    "import random\n",
    "\n",
    "# 创建一个包含10个数和5个字母的列表\n",
    "elements = [1, 2, 3, 4, 5, 6, 7, 8, 9, 10, 'A', 'B', 'C', 'D', 'E']\n",
    "\n",
    "# 随机选择4个数或字母\n",
    "winning_ticket = random.sample(elements, 4)\n",
    "\n",
    "# 打印中奖信息\n",
    "print(f\"Winning ticket: {winning_ticket}\")\n",
    "print(\"If your ticket has these numbers or letters, you win the jackpot!\")\n",
    "\n",
    "\n"
   ]
  },
  {
   "cell_type": "markdown",
   "metadata": {},
   "source": [
    "练习9-15：彩票分析 　可以使用一个循环来明白前述彩票大奖有多难中奖。为\n",
    "此，创建一个名为my_ticket 的列表或元组，再编写一个循环，不断地随机\n",
    "选择数或字母，直到中大奖为止。请打印一条消息，报告执行循环多少次才中\n",
    "了大奖。\n"
   ]
  },
  {
   "cell_type": "code",
   "execution_count": 65,
   "metadata": {},
   "outputs": [
    {
     "name": "stdout",
     "output_type": "stream",
     "text": [
      "My ticket: ()\n",
      "It took 4666 attempts to win the lottery with the ticket [2, 'C', 6, 4].\n"
     ]
    }
   ],
   "source": [
    "winning_ticket = [2, 'C', 6, 4]\n",
    "my_ticket = ()\n",
    "\n",
    "class Draw:\n",
    "    def __init__(self, elements):\n",
    "        self.elements = elements\n",
    "        \n",
    "    def draw_ticket(self):\n",
    "        return random.sample(self.elements, 4)\n",
    "    \n",
    "    def draw_times(self, times):\n",
    "        for _ in range(times):\n",
    "            print(self.draw_ticket())\n",
    "    \n",
    "    def analyze_lottery(self, my_ticket, winning_ticket):\n",
    "        attempts = 0\n",
    "        while True:\n",
    "            attempts += 1\n",
    "            drawn_ticket = self.draw_ticket()\n",
    "            if set(drawn_ticket) == set(winning_ticket):\n",
    "                break\n",
    "        return attempts\n",
    "\n",
    "draw = Draw(elements)\n",
    "print(f\"My ticket: {my_ticket}\")\n",
    "\n",
    "# Analyze how many attempts it takes to win the lottery\n",
    "attempts = draw.analyze_lottery(my_ticket, winning_ticket)\n",
    "print(f\"It took {attempts} attempts to win the lottery with the ticket {winning_ticket}.\")"
   ]
  }
 ],
 "metadata": {
  "kernelspec": {
   "display_name": "py12",
   "language": "python",
   "name": "python3"
  },
  "language_info": {
   "codemirror_mode": {
    "name": "ipython",
    "version": 3
   },
   "file_extension": ".py",
   "mimetype": "text/x-python",
   "name": "python",
   "nbconvert_exporter": "python",
   "pygments_lexer": "ipython3",
   "version": "3.12.5"
  }
 },
 "nbformat": 4,
 "nbformat_minor": 2
}
