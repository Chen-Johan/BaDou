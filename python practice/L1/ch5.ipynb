{
 "cells": [
  {
   "cell_type": "markdown",
   "metadata": {},
   "source": [
    "# 第 5 章 if 语句"
   ]
  },
  {
   "cell_type": "code",
   "execution_count": 1,
   "metadata": {},
   "outputs": [
    {
     "name": "stdout",
     "output_type": "stream",
     "text": [
      "Audi\n",
      "BMW\n",
      "Subaru\n",
      "Toyota\n"
     ]
    }
   ],
   "source": [
    "cars = ['audi', 'bmw', 'subaru', 'toyota']\n",
    "for car in cars:\n",
    "    if car == 'bmw':\n",
    "        print(car.upper())\n",
    "    else:\n",
    "        print(car.title())\n"
   ]
  },
  {
   "cell_type": "code",
   "execution_count": 2,
   "metadata": {},
   "outputs": [
    {
     "data": {
      "text/plain": [
       "True"
      ]
     },
     "execution_count": 2,
     "metadata": {},
     "output_type": "execute_result"
    }
   ],
   "source": [
    "car = 'Audi'\n",
    "car.lower() == 'audi'"
   ]
  },
  {
   "cell_type": "code",
   "execution_count": 3,
   "metadata": {},
   "outputs": [
    {
     "name": "stdout",
     "output_type": "stream",
     "text": [
      "Hold the anchovies!\n"
     ]
    }
   ],
   "source": [
    "requested_topping = 'mushrooms'\n",
    " \n",
    "if requested_topping != 'anchovies':\n",
    "    print(\"Hold the anchovies!\")"
   ]
  },
  {
   "cell_type": "code",
   "execution_count": 6,
   "metadata": {},
   "outputs": [
    {
     "data": {
      "text/plain": [
       "False"
      ]
     },
     "execution_count": 6,
     "metadata": {},
     "output_type": "execute_result"
    }
   ],
   "source": [
    "age_0 = 22\n",
    "age_1 = 18\n",
    "\n",
    "age_0 >= 21 and age_1 >= 21"
   ]
  },
  {
   "cell_type": "code",
   "execution_count": 7,
   "metadata": {},
   "outputs": [
    {
     "data": {
      "text/plain": [
       "True"
      ]
     },
     "execution_count": 7,
     "metadata": {},
     "output_type": "execute_result"
    }
   ],
   "source": [
    "age_1 = 22\n",
    "age_0 >= 21 and age_1 >= 21"
   ]
  },
  {
   "cell_type": "code",
   "execution_count": 8,
   "metadata": {},
   "outputs": [
    {
     "name": "stdout",
     "output_type": "stream",
     "text": [
      "Is car == 'subaru'? I predict True.\n",
      "True\n",
      "\n",
      "Is car == 'audi'? I predict False.\n",
      "False\n"
     ]
    }
   ],
   "source": [
    "# 练习5-1：条件测试 　编写一系列条件测试，将每个测试以及对其结果的预测\n",
    "# 和实际结果打印出来。你编写的代码应类似于下面这样：\n",
    "# car = 'subaru'\n",
    "# print(\"Is car == 'subaru'? I predict True.\")\n",
    "# print(car == 'subaru')\n",
    "\n",
    "# print(\"\\nIs car == 'audi'? I predict False.\")\n",
    "# print(car == 'audi')\n",
    "# 详细研究实际结果，直到你明白它为何为True 或False\n",
    "# 创建至少10个测试，且其中结果分别为True 和False 的测试都至少有5个。\n",
    "\n",
    "\n",
    "\n",
    "car = 'subaru'\n",
    "print(\"Is car == 'subaru'? I predict True.\")\n",
    "print(car == 'subaru')\n",
    "\n",
    "print(\"\\nIs car == 'audi'? I predict False.\")\n",
    "print(car == 'audi')\n"
   ]
  },
  {
   "cell_type": "code",
   "execution_count": 9,
   "metadata": {},
   "outputs": [
    {
     "name": "stdout",
     "output_type": "stream",
     "text": [
      "Sorry, you are too young to vote.\n",
      "Please register to vote as soon as you turn 18!\n"
     ]
    }
   ],
   "source": [
    "# 5.3 if 语句\n",
    "\n",
    "age = 17\n",
    "\n",
    "if age >= 18:\n",
    "    print(\"You are old enough to vote!\")\n",
    "    print(\"Have you registered to vote yet?\")\n",
    "else:\n",
    "    print(\"Sorry, you are too young to vote.\")\n",
    "    print(\"Please register to vote as soon as you turn 18!\")"
   ]
  },
  {
   "cell_type": "code",
   "execution_count": null,
   "metadata": {},
   "outputs": [],
   "source": [
    "age = 12\n",
    "if age < 4:\n",
    "    print(\"Your admission cost is $0.\")\n",
    "elif age < 18:\n",
    "    print(\"Your admission cost is $25.\")\n",
    "else:\n",
    "    print(\"Your admission cost is $40.\")"
   ]
  },
  {
   "cell_type": "markdown",
   "metadata": {},
   "source": [
    "练习5-3：外星人颜色 　假设在游戏中刚射杀了一个外星人，请创建一个名为\n",
    "alien_color 的变量，并将其赋值为'green' 、'yellow' 或'red' 。\n",
    "编写一条if 语句，检查外星人是否是绿色的。如果是，就打印一条消息，\n",
    "指出玩家获得了5分。\n",
    "编写这个程序的两个版本，在一个版本中上述测试通过了，而在另一个版\n",
    "本中未通过（未通过测试时没有输出）。\n"
   ]
  },
  {
   "cell_type": "code",
   "execution_count": 10,
   "metadata": {},
   "outputs": [
    {
     "name": "stdout",
     "output_type": "stream",
     "text": [
      "You just earned 5 points!\n"
     ]
    }
   ],
   "source": [
    "alien_color = 'green'\n",
    "\n",
    "if alien_color == 'green':\n",
    "    print(\"You just earned 5 points!\")\n",
    "\n",
    "alien_color = 'red'\n",
    "\n",
    "if alien_color == 'green':\n",
    "    print(\"You just earned 5 points!\")"
   ]
  },
  {
   "cell_type": "markdown",
   "metadata": {},
   "source": [
    "练习5-4：外星人颜色2 　像练习5-3那样设置外星人的颜色，并编写一个ifelse 结构。\n",
    "如果外星人是绿色的，就打印一条消息，指出玩家因射杀该外星人获得了5\n",
    "分。\n",
    "如果外星人不是绿色的，就打印一条消息，指出玩家获得了10分。\n",
    "编写这个程序的两个版本，在一个版本中执行if 代码块，在另一个版本中\n",
    "执行else 代码块。\n"
   ]
  },
  {
   "cell_type": "code",
   "execution_count": 11,
   "metadata": {},
   "outputs": [
    {
     "name": "stdout",
     "output_type": "stream",
     "text": [
      "You just earned 10 points!\n"
     ]
    }
   ],
   "source": [
    "if alien_color == 'green':\n",
    "    print(\"You just earned 5 points!\")\n",
    "else:\n",
    "    print(\"You just earned 10 points!\")"
   ]
  },
  {
   "cell_type": "markdown",
   "metadata": {},
   "source": [
    "练习5-5：外星人颜色3 　将练习5-4中的if-else 结构改为if-elif-else\n",
    "结构。\n",
    "如果外星人是绿色的，就打印一条消息，指出玩家获得了5分。\n",
    "如果外星人是黄色的，就打印一条消息，指出玩家获得了10分。\n",
    "如果外星人是红色的，就打印一条消息，指出玩家获得了15分。\n",
    "编写这个程序的三个版本，分别在外星人为绿色、黄色和红色时打印一条\n",
    "消息。\n"
   ]
  },
  {
   "cell_type": "code",
   "execution_count": 12,
   "metadata": {},
   "outputs": [
    {
     "name": "stdout",
     "output_type": "stream",
     "text": [
      "You just earned 15 points!\n"
     ]
    }
   ],
   "source": [
    "if alien_color == 'green':\n",
    "    print(\"You just earned 5 points!\")\n",
    "elif alien_color == 'yellow':\n",
    "    print(\"You just earned 10 points!\")\n",
    "else:\n",
    "    print(\"You just earned 15 points!\")\n"
   ]
  },
  {
   "cell_type": "markdown",
   "metadata": {},
   "source": [
    "练习5-6：人生的不同阶段 　设置变量age 的值，再编写一个if-elif-else\n",
    "结构，根据age 的值判断一个人处于人生的哪个阶段。\n",
    "如果年龄小于2岁，就打印一条消息，指出这个人是婴儿。\n",
    "如果年龄为2（含）～4岁，就打印一条消息，指出这个人是幼儿。\n",
    "如果年龄为4（含）～13岁，就打印一条消息，指出这个人是儿童。\n",
    "如果年龄为13（含）～20岁，就打印一条消息，指出这个人是青少年。\n",
    "如果年龄为20（含）～65岁，就打印一条消息，指出这个人是成年人。\n",
    "如果年龄超过65岁（含），就打印一条消息，指出这个人是老年人。"
   ]
  },
  {
   "cell_type": "code",
   "execution_count": 13,
   "metadata": {},
   "outputs": [
    {
     "name": "stdout",
     "output_type": "stream",
     "text": [
      "He is an adult.\n"
     ]
    }
   ],
   "source": [
    "age =38\n",
    "\n",
    "if age < 2:\n",
    "    print(\"He is a baby.\")\n",
    "elif age < 4:\n",
    "    print(\"He is a toddler.\")\n",
    "elif age < 13:\n",
    "    print(\"He is a kid.\")\n",
    "elif age < 20:\n",
    "    print(\"He is a teenager.\")\n",
    "elif age < 65:\n",
    "    print(\"He is an adult.\")\n",
    "else:\n",
    "    print(\"He is an elder.\")\n"
   ]
  },
  {
   "cell_type": "markdown",
   "metadata": {},
   "source": [
    "练习5-7：喜欢的水果 　创建一个列表，其中包含你喜欢的水果，再编写一系\n",
    "列独立的if 语句，检查列表中是否包含特定的水果。\n",
    "将该列表命名为favorite_fruits ，并在其中包含三种水果。\n",
    "编写5条if 语句，每条都检查某种水果是否包含在列表中。如果是，就打\n",
    "印一条消息，下面是一个例子。\n",
    "You really like bananas!"
   ]
  },
  {
   "cell_type": "code",
   "execution_count": 14,
   "metadata": {},
   "outputs": [
    {
     "name": "stdout",
     "output_type": "stream",
     "text": [
      "You really like apple!\n",
      "You really like banana!\n",
      "You really like orange!\n",
      "You really like grape!\n",
      "You really like watermelon!\n"
     ]
    }
   ],
   "source": [
    "fruits = ['apple', 'banana', 'orange', 'grape', 'watermelon']\n",
    "\n",
    "if 'apple' in fruits:\n",
    "    print(\"You really like apple!\")\n",
    "if 'banana' in fruits:\n",
    "    print(\"You really like banana!\")\n",
    "if 'orange' in fruits:\n",
    "    print(\"You really like orange!\")\n",
    "if 'grape' in fruits:\n",
    "    print(\"You really like grape!\")\n",
    "if 'watermelon' in fruits:\n",
    "    print(\"You really like watermelon!\")\n"
   ]
  },
  {
   "cell_type": "code",
   "execution_count": 15,
   "metadata": {},
   "outputs": [
    {
     "name": "stdout",
     "output_type": "stream",
     "text": [
      "Adding mushrooms.\n",
      "Sorry, we don't have french fries.\n",
      "Adding extra cheese.\n",
      "\n",
      "Finished making your pizza!\n"
     ]
    }
   ],
   "source": [
    "available_toppings = ['mushrooms', 'olives', 'green peppers',\n",
    "                    'pepperoni', 'pineapple', 'extra cheese']\n",
    "\n",
    "requested_toppings = ['mushrooms', 'french fries', 'extra cheese']\n",
    "\n",
    "for requested_topping in requested_toppings:\n",
    "    if requested_topping in available_toppings:\n",
    "        print(f\"Adding {requested_topping}.\")\n",
    "    else:\n",
    "        print(f\"Sorry, we don't have {requested_topping}.\")\n",
    "print(\"\\nFinished making your pizza!\")\n",
    "\n",
    "\n"
   ]
  },
  {
   "cell_type": "markdown",
   "metadata": {},
   "source": [
    "练习5-8：以特殊方式跟管理员打招呼 　创建一个至少包含5个用户名的列表，\n",
    "且其中一个用户名为'admin' 。想象你要编写代码，在每位用户登录网站后都\n",
    "打印一条问候消息。遍历用户名列表，并向每位用户打印一条问候消息。\n",
    "如果用户名为'admin' ，就打印一条特殊的问候消息，如下所示。\n",
    "Hello admin, would you like to see a status report?\n",
    "否则，打印一条普通的问候消息，如下所示。\n",
    "Hello Jaden, thank you for logging in again."
   ]
  },
  {
   "cell_type": "code",
   "execution_count": 16,
   "metadata": {},
   "outputs": [
    {
     "name": "stdout",
     "output_type": "stream",
     "text": [
      "Hello admin, would you like to see a status report?\n",
      "Hello jaden, thank you for logging in again.\n",
      "Hello lily, thank you for logging in again.\n",
      "Hello tom, thank you for logging in again.\n",
      "Hello jerry, thank you for logging in again.\n"
     ]
    }
   ],
   "source": [
    "users = ['admin', 'jaden', 'lily', 'tom', 'jerry']\n",
    "\n",
    "for user in users:\n",
    "    if user == 'admin':\n",
    "        print(\"Hello admin, would you like to see a status report?\")\n",
    "    else:\n",
    "        print(f\"Hello {user}, thank you for logging in again.\")\n",
    "        "
   ]
  },
  {
   "cell_type": "markdown",
   "metadata": {},
   "source": [
    "练习5-9：处理没有用户的情形 　在为完成练习5-8编写的程序中，添加一条\n",
    "if 语句，检查用户名列表是否为空。\n",
    "如果为空，就打印如下消息。\n",
    "We need to find some users!\n",
    "删除列表中的所有用户名，确定将打印正确的消息。"
   ]
  },
  {
   "cell_type": "code",
   "execution_count": 17,
   "metadata": {},
   "outputs": [
    {
     "name": "stdout",
     "output_type": "stream",
     "text": [
      "We need to find some users!\n"
     ]
    }
   ],
   "source": [
    "users = []\n",
    "for user in users:\n",
    "    if user == 'admin':\n",
    "        print(\"Hello admin, would you like to see a status report?\")\n",
    "    else:\n",
    "        print(f\"Hello {user}, thank you for logging in again.\")\n",
    "else:\n",
    "    print(\"We need to find some users!\")"
   ]
  },
  {
   "cell_type": "markdown",
   "metadata": {},
   "source": [
    "练习5-10：检查用户名 　按下面的说明编写一个程序，模拟网站如何确保每位\n",
    "用户的用户名都独一无二。\n",
    "创建一个至少包含5个用户名的列表，并将其命名为current_users 。\n",
    "再创建一个包含5个用户名的列表，将其命名为new_users ，并确保其中\n",
    "有一两个用户名也包含在列表current_users 中。\n",
    "遍历列表new_users ，对于其中的每个用户名，都检查它是否已被使\n",
    "用。如果是，就打印一条消息，指出需要输入别的用户名；否则，打印一\n",
    "条消息，指出这个用户名未被使用。\n",
    "确保比较时不区分大小写。换句话说，如果用户名'John' 已被使用，应\n",
    "拒绝用户名'JOHN' 。（为此，需要创建列表current_users 的副本，\n",
    "其中包含当前所有用户名的小写版本。）\n"
   ]
  },
  {
   "cell_type": "code",
   "execution_count": 23,
   "metadata": {},
   "outputs": [
    {
     "name": "stdout",
     "output_type": "stream",
     "text": [
      "Sorry, admin has been used.\n",
      "Great, jaden2 is available.\n",
      "Great, lily3 is available.\n",
      "Sorry, tom has been used.\n",
      "Great, jerry5 is available.\n"
     ]
    }
   ],
   "source": [
    "current_users = ['admin', 'jaden', 'lily', 'tom', 'jerry']\n",
    "new_users = ['admin', 'jaden2', 'lily3', 'tom', 'jerry5']\n",
    "\n",
    "current_users_lower = [current_user.lower() for current_user in current_users]\n",
    "\n",
    "for new_user in new_users:\n",
    "    if new_user.lower() in current_users_lower:\n",
    "        print(f\"Sorry, {new_user} has been used.\")\n",
    "    else:\n",
    "        print(f\"Great, {new_user} is available.\")"
   ]
  },
  {
   "cell_type": "markdown",
   "metadata": {},
   "source": [
    "练习5-11：序数 　序数表示位置，如1st和2nd。序数大多以th结尾，只有1、2\n",
    "和3例外。\n",
    "在一个列表中存储数字1～9。\n",
    "遍历这个列表。\n",
    "在循环中使用一个if-elif-else 结构，以打印每个数字对应的序数。输\n",
    "出内容应为\"1st 2nd 3rd 4th 5th 6th 7th 8th 9th\" ，但每个序\n",
    "数都独占一行。"
   ]
  },
  {
   "cell_type": "code",
   "execution_count": 24,
   "metadata": {},
   "outputs": [
    {
     "name": "stdout",
     "output_type": "stream",
     "text": [
      "1st\n",
      "2nd\n",
      "3rd\n",
      "4th\n",
      "5th\n",
      "6th\n",
      "7th\n",
      "8th\n",
      "9th\n"
     ]
    }
   ],
   "source": [
    "list = [1, 2, 3, 4, 5, 6, 7, 8, 9]\n",
    "\n",
    "for i in list:\n",
    "    if i == 1:\n",
    "        print(f\"{i}st\")\n",
    "    elif i == 2:\n",
    "        print(f\"{i}nd\")\n",
    "    elif i == 3:\n",
    "        print(f\"{i}rd\")\n",
    "    else:\n",
    "        print(f\"{i}th\")"
   ]
  }
 ],
 "metadata": {
  "kernelspec": {
   "display_name": "py12",
   "language": "python",
   "name": "python3"
  },
  "language_info": {
   "codemirror_mode": {
    "name": "ipython",
    "version": 3
   },
   "file_extension": ".py",
   "mimetype": "text/x-python",
   "name": "python",
   "nbconvert_exporter": "python",
   "pygments_lexer": "ipython3",
   "version": "3.12.5"
  }
 },
 "nbformat": 4,
 "nbformat_minor": 2
}
