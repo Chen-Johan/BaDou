{
 "cells": [
  {
   "cell_type": "markdown",
   "metadata": {},
   "source": [
    "# 第 6 章 字典"
   ]
  },
  {
   "cell_type": "code",
   "execution_count": 1,
   "metadata": {},
   "outputs": [
    {
     "name": "stdout",
     "output_type": "stream",
     "text": [
      "green\n",
      "5\n"
     ]
    }
   ],
   "source": [
    "alien_0 = {'color': 'green', 'points': 5}\n",
    "\n",
    "print(alien_0['color'])\n",
    "print(alien_0['points'])\n"
   ]
  },
  {
   "cell_type": "code",
   "execution_count": 5,
   "metadata": {},
   "outputs": [
    {
     "name": "stdout",
     "output_type": "stream",
     "text": [
      "green\n",
      "You just earned 5 points!\n"
     ]
    }
   ],
   "source": [
    "# 键值对\n",
    "alien_0 = {'color': 'green'}\n",
    "print(alien_0['color'])\n",
    "\n",
    "\n",
    "alien_0 = {'color': 'green', 'points': 5}\n",
    "new_points = alien_0['points']\n",
    "print(f\"You just earned {new_points} points!\")"
   ]
  },
  {
   "cell_type": "code",
   "execution_count": 6,
   "metadata": {},
   "outputs": [
    {
     "name": "stdout",
     "output_type": "stream",
     "text": [
      "{'color': 'green', 'points': 5}\n",
      "{'color': 'green', 'points': 5, 'x_position': 0, 'y_position': 25}\n"
     ]
    }
   ],
   "source": [
    "# 添加键值对\n",
    "alien_0 = {'color': 'green', 'points': 5}\n",
    "print(alien_0)\n",
    "\n",
    "alien_0['x_position'] = 0\n",
    "alien_0['y_position'] = 25\n",
    "\n",
    "print(alien_0)"
   ]
  },
  {
   "cell_type": "code",
   "execution_count": 7,
   "metadata": {},
   "outputs": [
    {
     "name": "stdout",
     "output_type": "stream",
     "text": [
      "The alien is green.\n",
      "The alien is now yellow.\n"
     ]
    }
   ],
   "source": [
    "# 修改字典中的值\n",
    "alien_0 = {'color': 'green'}\n",
    "print(f\"The alien is {alien_0['color']}.\")\n",
    "\n",
    "alien_0['color'] = 'yellow'\n",
    "print(f\"The alien is now {alien_0['color']}.\")"
   ]
  },
  {
   "cell_type": "code",
   "execution_count": 8,
   "metadata": {},
   "outputs": [
    {
     "name": "stdout",
     "output_type": "stream",
     "text": [
      "Original position: 0\n",
      "New position: 2\n"
     ]
    }
   ],
   "source": [
    "alien_0 = {'x_position': 0, 'y_position': 25, 'speed': 'medium'}\n",
    "print(f\"Original position: {alien_0['x_position']}\")\n",
    "# 向右移动外星人。\n",
    "# 根据当前速度确定将外星人向右移动多远。\n",
    "if alien_0['speed'] == 'slow':\n",
    "    x_increment = 1\n",
    "elif alien_0['speed'] == 'medium':\n",
    "    x_increment = 2\n",
    "else:\n",
    "    # 这个外星人的移动速度肯定很快。\n",
    "    x_increment = 3\n",
    "# 新位置为旧位置加上移动距离。\n",
    "alien_0['x_position'] = alien_0['x_position'] + x_increment\n",
    "print(f\"New position: {alien_0['x_position']}\")\n"
   ]
  },
  {
   "cell_type": "code",
   "execution_count": 9,
   "metadata": {},
   "outputs": [
    {
     "name": "stdout",
     "output_type": "stream",
     "text": [
      "{'color': 'green', 'points': 5}\n",
      "{'color': 'green'}\n"
     ]
    }
   ],
   "source": [
    "# 删除键值对\n",
    "\n",
    "alien_0 = {'color': 'green', 'points': 5}\n",
    "print(alien_0)\n",
    "\n",
    "del alien_0['points']\n",
    "print(alien_0)"
   ]
  },
  {
   "cell_type": "code",
   "execution_count": 10,
   "metadata": {},
   "outputs": [
    {
     "name": "stdout",
     "output_type": "stream",
     "text": [
      "Sarah's favorite language is C.\n"
     ]
    }
   ],
   "source": [
    "favorite_languages = {\n",
    "    'jen': 'python',\n",
    "    'sarah': 'c',\n",
    "    'edward': 'ruby',\n",
    "    'phil': 'python',\n",
    "}\n",
    "\n",
    "language = favorite_languages['sarah'].title()\n",
    "print(f\"Sarah's favorite language is {language}.\")\n"
   ]
  },
  {
   "cell_type": "code",
   "execution_count": 12,
   "metadata": {},
   "outputs": [
    {
     "name": "stdout",
     "output_type": "stream",
     "text": [
      "No point value assigned.\n"
     ]
    }
   ],
   "source": [
    "# 使用get() 来访问值\n",
    "alien_0 = {'color': 'green', 'speed': 'slow'}\n",
    "point_value = alien_0.get('points', 'No point value assigned.')\n",
    "print(point_value)\n",
    "\n"
   ]
  },
  {
   "cell_type": "markdown",
   "metadata": {},
   "source": [
    "练习6-1：人 　使用一个字典来存储一个熟人的信息，包括名、姓、年龄和居\n",
    "住的城市。该字典应包含键first_name 、last_name 、age 和city 。将\n",
    "存储在该字典中的每项信息都打印出来。\n"
   ]
  },
  {
   "cell_type": "code",
   "execution_count": 16,
   "metadata": {},
   "outputs": [
    {
     "name": "stdout",
     "output_type": "stream",
     "text": [
      "\n",
      "Key: first_name\n",
      "Value: zhang\n",
      "\n",
      "Key: last_name\n",
      "Value: san\n",
      "\n",
      "Key: age\n",
      "Value: 18\n",
      "\n",
      "Key: city\n",
      "Value: beijing\n"
     ]
    }
   ],
   "source": [
    "info = {'first_name': 'zhang', 'last_name': 'san', 'age': 18, 'city': 'beijing'}\n",
    "for key, value in info.items():\n",
    "    print(f\"\\nKey: {key}\")\n",
    "    print(f\"Value: {value}\")"
   ]
  },
  {
   "cell_type": "markdown",
   "metadata": {},
   "source": [
    "练习6-2：喜欢的数 　使用一个字典来存储一些人喜欢的数。请想出5个人的名\n",
    "字，并将这些名字用作字典中的键；找出每个人喜欢的一个数，并将这些数作\n",
    "为值存储在字典中。打印每个人的名字和喜欢的数。为了让这个程序更有趣，\n",
    "通过询问朋友确保数据是真实的。\n"
   ]
  },
  {
   "cell_type": "code",
   "execution_count": 18,
   "metadata": {},
   "outputs": [
    {
     "name": "stdout",
     "output_type": "stream",
     "text": [
      "\n",
      "a likes 1\n",
      "\n",
      "b likes 2\n",
      "\n",
      "c likes 3\n",
      "\n",
      "d likes 4\n",
      "\n",
      "e likes 5\n"
     ]
    }
   ],
   "source": [
    "num = {'a': 1, 'b': 2, 'c': 3, 'd': 4, 'e': 5}\n",
    "for key, value in num.items():\n",
    "    print(f'\\n{key} likes {value}')"
   ]
  },
  {
   "cell_type": "markdown",
   "metadata": {},
   "source": [
    "练习6-3：词汇表 　Python字典可用于模拟现实生活中的字典。为避免混淆，\n",
    "我们将后者称为词汇表。\n",
    "想出你在前面学过的5个编程术语，将其用作词汇表中的键，并将它们的含\n",
    "义作为值存储在词汇表中。\n",
    "以整洁的方式打印每个术语及其含义。为此，可先打印术语，在它后面加\n",
    "上一个冒号，再打印其含义；也可在一行打印术语，再使用换行符（\\n ）\n",
    "插入一个空行，然后在下一行以缩进的方式打印其含义。"
   ]
  },
  {
   "cell_type": "code",
   "execution_count": 21,
   "metadata": {},
   "outputs": [
    {
     "name": "stdout",
     "output_type": "stream",
     "text": [
      "\n",
      "if means if\n",
      "\n",
      "elif means else if\n",
      "\n",
      "else means else\n"
     ]
    }
   ],
   "source": [
    "terms = {'if': 'if', 'elif': 'else if', 'else': 'else'}\n",
    "for term, meaning in terms.items():\n",
    "    print(f\"\\n{term} means {meaning}\")"
   ]
  },
  {
   "cell_type": "code",
   "execution_count": 22,
   "metadata": {},
   "outputs": [
    {
     "name": "stdout",
     "output_type": "stream",
     "text": [
      "Jen\n",
      "Sarah\n",
      "Edward\n",
      "Phil\n"
     ]
    }
   ],
   "source": [
    "favorite_languages = {\n",
    " 'jen': 'python',\n",
    " 'sarah': 'c',\n",
    " 'edward': 'ruby',\n",
    " 'phil': 'python',\n",
    " }\n",
    "for name in favorite_languages.keys():\n",
    "    print(name.title())\n"
   ]
  },
  {
   "cell_type": "code",
   "execution_count": 28,
   "metadata": {},
   "outputs": [
    {
     "name": "stdout",
     "output_type": "stream",
     "text": [
      "Hi Jen.\n",
      "Hi Sarah.\n",
      "\tSarah, I see you love C!\n",
      "Hi Edward.\n",
      "Hi Phil.\n",
      "\tPhil, I see you love Python!\n"
     ]
    }
   ],
   "source": [
    "friends = ['phil', 'sarah']\n",
    "for name in favorite_languages.keys():\n",
    "    print(f\"Hi {name.title()}.\")\n",
    "\n",
    "    if name in friends:\n",
    "        language = favorite_languages[name].title()\n",
    "        print(f\"\\t{name.title()}, I see you love {language}!\")"
   ]
  },
  {
   "cell_type": "code",
   "execution_count": 30,
   "metadata": {},
   "outputs": [
    {
     "name": "stdout",
     "output_type": "stream",
     "text": [
      "Edward, thank you for taking the poll.\n",
      "Jen, thank you for taking the poll.\n",
      "Phil, thank you for taking the poll.\n",
      "Sarah, thank you for taking the poll.\n"
     ]
    }
   ],
   "source": [
    "for name in sorted(favorite_languages.keys()):\n",
    "    print(f\"{name.title()}, thank you for taking the poll.\")"
   ]
  },
  {
   "cell_type": "code",
   "execution_count": 32,
   "metadata": {},
   "outputs": [
    {
     "name": "stdout",
     "output_type": "stream",
     "text": [
      "The following languages have been mentioned:\n",
      "Python\n",
      "C\n",
      "Ruby\n",
      "Python\n"
     ]
    }
   ],
   "source": [
    "favorite_languages = {\n",
    "    'jen': 'python',\n",
    "    'sarah': 'c',\n",
    "    'edward': 'ruby',\n",
    "    'phil': 'python',\n",
    "    }\n",
    "\n",
    "print(\"The following languages have been mentioned:\")\n",
    "\n",
    "for language in favorite_languages.values():\n",
    "    print(language.title())\n"
   ]
  },
  {
   "cell_type": "code",
   "execution_count": 33,
   "metadata": {},
   "outputs": [
    {
     "name": "stdout",
     "output_type": "stream",
     "text": [
      "The following languages have been mentioned:\n",
      "Ruby\n",
      "C\n",
      "Python\n"
     ]
    }
   ],
   "source": [
    "# 列表调用set() ，可让Python找出列表中独一无二的元素\n",
    "\n",
    "print(\"The following languages have been mentioned:\")\n",
    "for language in set(favorite_languages.values()):\n",
    "    print(language.title())"
   ]
  },
  {
   "cell_type": "markdown",
   "metadata": {},
   "source": [
    "练习6-4：词汇表2 　现在你知道了如何遍历字典，可以整理为完成练习6-3而\n",
    "编写的代码，将其中的一系列函数调用print() 替换为一个遍历字典中键和值\n",
    "的循环。确定该循环正确无误后，再在词汇表中添加5个Python术语。当你再次\n",
    "运行这个程序时，这些新术语及其含义将自动包含在输出中。"
   ]
  },
  {
   "cell_type": "code",
   "execution_count": 35,
   "metadata": {},
   "outputs": [
    {
     "name": "stdout",
     "output_type": "stream",
     "text": [
      "\n",
      "if\n",
      "\tif means if\n",
      "\n",
      "elif\n",
      "\telif means else if\n",
      "\n",
      "else\n",
      "\telse means else\n",
      "\n",
      "if means if\n",
      "\n",
      "elif means else if\n",
      "\n",
      "else means else\n"
     ]
    }
   ],
   "source": [
    "terms = {'if': 'if', 'elif': 'else if', 'else': 'else'}\n",
    "\n",
    "for term in terms.keys():\n",
    "    print(f\"\\n{term}\")\n",
    "\n",
    "    if term in terms:\n",
    "        meaning = terms[term]\n",
    "        print(f\"\\t{term} means {meaning}\")\n",
    "        \n",
    "for keys, values in terms.items():\n",
    "    print(f\"\\n{keys} means {values}\")"
   ]
  },
  {
   "cell_type": "markdown",
   "metadata": {},
   "source": [
    "练习6-5：河流 　创建一个字典，在其中存储三条重要河流及其流经的国家。\n",
    "例如，一个键值对可能是'nile': 'egypt' 。\n",
    "使用循环为每条河流打印一条消息，下面是一个例子。\n",
    "The Nile runs through Egypt.\n",
    "使用循环将该字典中每条河流的名字打印出来。\n",
    "使用循环将该字典包含的每个国家的名字打印出来。"
   ]
  },
  {
   "cell_type": "code",
   "execution_count": 36,
   "metadata": {},
   "outputs": [
    {
     "name": "stdout",
     "output_type": "stream",
     "text": [
      "The Nile runs through Egypt.\n",
      "The Changjiang runs through China.\n",
      "The Huanghe runs through China.\n"
     ]
    }
   ],
   "source": [
    "river = {'nile': 'egypt', 'changjiang': 'china', 'huanghe': 'china'}\n",
    "for river_name, country in river.items():\n",
    "    print(f\"The {river_name.title()} runs through {country.title()}.\")"
   ]
  },
  {
   "cell_type": "markdown",
   "metadata": {},
   "source": [
    "练习6-6：调查 　在6.3.1节编写的程序favorite_languages.py中执行以下操\n",
    "作。\n",
    "创建一个应该会接受调查的人员名单，其中有些人已包含在字典中，而其\n",
    "他人未包含在字典中。\n",
    "遍历这个人员名单。对于已参与调查的人，打印一条消息表示感谢；对于\n",
    "还未参与调查的人，打印一条消息邀请他参加。"
   ]
  },
  {
   "cell_type": "code",
   "execution_count": 42,
   "metadata": {},
   "outputs": [
    {
     "name": "stdout",
     "output_type": "stream",
     "text": [
      "Sarah, thank you for taking the poll.\n",
      "Jen, thank you for taking the poll.\n",
      "Edward, thank you for taking the poll.\n",
      "Phil, thank you for taking the poll.\n",
      "Tom, please take our poll!\n"
     ]
    }
   ],
   "source": [
    "people = {'jen', 'sarah', 'edward', 'phil'}\n",
    "\n",
    "people_1 = {'jen', 'sarah', 'edward', 'phil', 'tom'}\n",
    "\n",
    "for name in people_1:\n",
    "    if name in people:\n",
    "        print(f'{name.title()}, thank you for taking the poll.')\n",
    "    else:\n",
    "        print(f\"{name.title()}, please take our poll!\")\n",
    "\n"
   ]
  },
  {
   "cell_type": "code",
   "execution_count": 45,
   "metadata": {},
   "outputs": [
    {
     "name": "stdout",
     "output_type": "stream",
     "text": [
      "Jen, thank you for taking the poll.\n",
      "Sarah, thank you for taking the poll.\n",
      "Edward, thank you for taking the poll.\n",
      "Phil, thank you for taking the poll.\n",
      "Tom, please take our poll!\n",
      "Jerry, please take our poll!\n"
     ]
    }
   ],
   "source": [
    "# 练习6-6：调查 　在6.3.1节编写的程序favorite_languages.py中执行以下操作。\n",
    "# 创建一个应该会接受调查的人员名单，其中有些人已包含在字典中，而其他人未包含在字典中。\n",
    "# 遍历这个人员名单。对于已参与调查的人，打印一条消息表示感谢；对于还未参与调查的人，打印一条消息邀请他参加。\n",
    "\n",
    "people_2 = {'jen':1, 'sarah':2, 'edward':3, 'phil':4, 'tom':5, 'jerry':6}\n",
    "\n",
    "for name in people_2.keys():\n",
    "    if name not in people:\n",
    "        print(f\"{name.title()}, please take our poll!\")\n",
    "    else:\n",
    "        print(f\"{name.title()}, thank you for taking the poll.\")\n"
   ]
  },
  {
   "cell_type": "code",
   "execution_count": 46,
   "metadata": {},
   "outputs": [
    {
     "name": "stdout",
     "output_type": "stream",
     "text": [
      "{'color': 'green', 'points': 5}\n",
      "{'color': 'yellow', 'points': 10}\n",
      "{'color': 'red', 'points': 15}\n"
     ]
    }
   ],
   "source": [
    "# 嵌套\n",
    "\n",
    "alien_0 = {'color': 'green', 'points': 5}\n",
    "alien_1 = {'color': 'yellow', 'points': 10}\n",
    "alien_2 = {'color': 'red', 'points': 15}\n",
    "\n",
    "aliens = [alien_0, alien_1, alien_2]\n",
    "\n",
    "for alien in aliens:\n",
    "    print(alien)\n"
   ]
  },
  {
   "cell_type": "code",
   "execution_count": 47,
   "metadata": {},
   "outputs": [
    {
     "name": "stdout",
     "output_type": "stream",
     "text": [
      "{'color': 'green', 'points': 5, 'speed': 'slow'}\n",
      "{'color': 'green', 'points': 5, 'speed': 'slow'}\n",
      "{'color': 'green', 'points': 5, 'speed': 'slow'}\n",
      "{'color': 'green', 'points': 5, 'speed': 'slow'}\n",
      "{'color': 'green', 'points': 5, 'speed': 'slow'}\n",
      "...\n",
      "Total number of aliens: 30\n"
     ]
    }
   ],
   "source": [
    "# 创建一个用于存储外星人的空列表。\n",
    "aliens = []\n",
    "\n",
    "# 创建30个绿色的外星人。\n",
    "for alien_number in range(30):\n",
    "    new_alien = {'color': 'green', 'points': 5, 'speed': 'slow'}\n",
    "    aliens.append(new_alien)\n",
    "\n",
    "# 显示前五个外星人。\n",
    "for alien in aliens[:5]:\n",
    "    print(alien)\n",
    "print(\"...\")\n",
    "\n",
    "# 显示创建了多少个外星人。\n",
    "print(f\"Total number of aliens: {len(aliens)}\")"
   ]
  },
  {
   "cell_type": "code",
   "execution_count": 49,
   "metadata": {},
   "outputs": [
    {
     "name": "stdout",
     "output_type": "stream",
     "text": [
      "{'color': 'yellow', 'points': 10, 'speed': 'medium'}\n",
      "{'color': 'yellow', 'points': 10, 'speed': 'medium'}\n",
      "{'color': 'yellow', 'points': 10, 'speed': 'medium'}\n",
      "{'color': 'green', 'points': 5, 'speed': 'slow'}\n",
      "{'color': 'green', 'points': 5, 'speed': 'slow'}\n",
      "...\n"
     ]
    }
   ],
   "source": [
    "# 创建一个用于存储外星人的空列表。\n",
    "aliens = []\n",
    "# 创建30个绿色的外星人。\n",
    "for alien_number in range(30):\n",
    "    new_alien = {'color': 'green', 'points': 5, 'speed': 'slow'}\n",
    "    aliens.append(new_alien)\n",
    "\n",
    "for alien in aliens[:3]:\n",
    "    if alien['color'] == 'green':\n",
    "        alien['color'] = 'yellow'\n",
    "        alien['speed'] = 'medium'\n",
    "        alien['points'] = 10\n",
    "\n",
    "# 显示前5个外星人。\n",
    "for alien in aliens[:5]:\n",
    "    print(alien)\n",
    "print(\"...\")"
   ]
  },
  {
   "cell_type": "code",
   "execution_count": 51,
   "metadata": {},
   "outputs": [
    {
     "name": "stdout",
     "output_type": "stream",
     "text": [
      "{'color': 'red', 'points': 15, 'speed': 'fast'}\n",
      "{'color': 'red', 'points': 15, 'speed': 'fast'}\n",
      "{'color': 'red', 'points': 15, 'speed': 'fast'}\n",
      "{'color': 'green', 'points': 5, 'speed': 'slow'}\n",
      "{'color': 'green', 'points': 5, 'speed': 'slow'}\n",
      "...\n"
     ]
    }
   ],
   "source": [
    "for alien in aliens[0:3]:\n",
    "    if alien['color'] == 'green':\n",
    "        alien['color'] = 'yellow'\n",
    "        alien['speed'] = 'medium'\n",
    "        alien['points'] = 10\n",
    "    elif alien['color'] == 'yellow':\n",
    "        alien['color'] = 'red'\n",
    "        alien['speed'] = 'fast'\n",
    "        alien['points'] = 15\n",
    "\n",
    "# 显示前5个外星人。\n",
    "for alien in aliens[:5]:\n",
    "    print(alien)\n",
    "print(\"...\")"
   ]
  },
  {
   "cell_type": "code",
   "execution_count": 54,
   "metadata": {},
   "outputs": [
    {
     "name": "stdout",
     "output_type": "stream",
     "text": [
      "You ordered a thick-crust pizza with the following toppings:\n",
      "\tmushrooms\n",
      "\textra cheese\n"
     ]
    }
   ],
   "source": [
    "pizza = {\n",
    "    'crust': 'thick',\n",
    "    'toppings': ['mushrooms', 'extra cheese'],\n",
    "    }\n",
    "\n",
    "print(f\"You ordered a {pizza['crust']}-crust pizza \"\n",
    "        \"with the following toppings:\")\n",
    "\n",
    "for topping in pizza['toppings']:\n",
    "    print(f\"\\t{topping}\")\n"
   ]
  },
  {
   "cell_type": "code",
   "execution_count": 55,
   "metadata": {},
   "outputs": [
    {
     "name": "stdout",
     "output_type": "stream",
     "text": [
      "\n",
      "Username: aeinstein\n",
      "\tFull name: Albert Einstein\n",
      "\tLocation: Princeton\n",
      "\n",
      "Username: mcurie\n",
      "\tFull name: Marie Curie\n",
      "\tLocation: Paris\n"
     ]
    }
   ],
   "source": [
    "# 6.4.3 在字典中存储字典\n",
    "\n",
    "users = {\n",
    "    'aeinstein': {\n",
    "        'first': 'albert',\n",
    "        'last': 'einstein',\n",
    "        'location': 'princeton',\n",
    "    },\n",
    "    'mcurie': {\n",
    "        'first': 'marie',\n",
    "        'last': 'curie',\n",
    "        'location': 'paris',\n",
    "    },\n",
    "}\n",
    "\n",
    "for username, user_info in users.items():\n",
    "    print(f\"\\nUsername: {username}\")\n",
    "    \n",
    "    full_name = f\"{user_info['first']} {user_info['last']}\"\n",
    "    location = user_info['location']\n",
    "    \n",
    "    print(f\"\\tFull name: {full_name.title()}\")\n",
    "    print(f\"\\tLocation: {location.title()}\")\n"
   ]
  },
  {
   "cell_type": "markdown",
   "metadata": {},
   "source": [
    "练习6-8：宠物 　创建多个表示宠物的字典，每个字典都包含宠物的类型及其\n",
    "主人的名字。将这些字典存储在一个名为pets 的列表中，再遍历该列表，并\n",
    "将有关每个宠物的所有信息都打印出来。"
   ]
  },
  {
   "cell_type": "code",
   "execution_count": 56,
   "metadata": {},
   "outputs": [
    {
     "name": "stdout",
     "output_type": "stream",
     "text": [
      "{'type': 'dog', 'owner': 'zhangsan'}\n",
      "{'type': 'cat', 'owner': 'lisi'}\n",
      "{'type': 'pig', 'owner': 'wangwu'}\n"
     ]
    }
   ],
   "source": [
    "pet_0 = {'type': 'dog', 'owner': 'zhangsan'}\n",
    "pet_1 = {'type': 'cat', 'owner': 'lisi'}\n",
    "pet_2 = {'type': 'pig', 'owner': 'wangwu'}\n",
    "\n",
    "pets = [pet_0, pet_1, pet_2]\n",
    "\n",
    "for pet in pets:\n",
    "    print(pet)\n"
   ]
  },
  {
   "cell_type": "markdown",
   "metadata": {},
   "source": [
    "练习6-9：喜欢的地方 　创建一个名为favorite_places 的字典。在这个字\n",
    "典中，将三个人的名字用作键，并存储每个人喜欢的1～3个地方。为了让这个\n",
    "练习更有趣些，可以让一些朋友说出他们喜欢的几个地方。遍历这个字典，并\n",
    "将其中每个人的名字及其喜欢的地方打印出来。\n"
   ]
  },
  {
   "cell_type": "code",
   "execution_count": 57,
   "metadata": {},
   "outputs": [
    {
     "name": "stdout",
     "output_type": "stream",
     "text": [
      "A likes beijing\n",
      "B likes shanghai\n",
      "C likes guangzhou\n"
     ]
    }
   ],
   "source": [
    "favorite_places = {'A': 'beijing', 'B': 'shanghai', 'C': 'guangzhou'}\n",
    "\n",
    "for keys, values in favorite_places.items():\n",
    "    print(f\"{keys} likes {values}\")"
   ]
  },
  {
   "cell_type": "markdown",
   "metadata": {},
   "source": [
    "练习6-11：城市 　创建一个名为cities 的字典，将三个城市名用作键。对于\n",
    "每座城市，都创建一个字典，并在其中包含该城市所属的国家、人口约数以及\n",
    "一个有关该城市的事实。在表示每座城市的字典中，应包含country 、\n",
    "population 和fact 等键。将每座城市的名字以及有关信息都打印出来。"
   ]
  },
  {
   "cell_type": "code",
   "execution_count": 59,
   "metadata": {},
   "outputs": [
    {
     "name": "stdout",
     "output_type": "stream",
     "text": [
      "\n",
      "City: beijing\n",
      "\tCountry: China\n",
      "\tPopulation: 10000000\n",
      "\tFact: Capital\n",
      "\n",
      "City: shanghai\n",
      "\tCountry: China\n",
      "\tPopulation: 20000000\n",
      "\tFact: Big\n",
      "\n",
      "City: guangzhou\n",
      "\tCountry: China\n",
      "\tPopulation: 30000000\n",
      "\tFact: Good\n"
     ]
    }
   ],
   "source": [
    "cities = {\n",
    "    'beijing': {'country': 'china', 'population': 10000000, 'fact': 'capital'},\n",
    "    'shanghai': {'country': 'china', 'population': 20000000, 'fact': 'big'},\n",
    "    'guangzhou': {'country': 'china', 'population': 30000000, 'fact': 'good'},\n",
    "}\n",
    "\n",
    "for city, city_info in cities.items():\n",
    "    print(f\"\\nCity: {city}\")\n",
    "    country = city_info['country']\n",
    "    population = city_info['population']\n",
    "    fact = city_info['fact']\n",
    "\n",
    "    print(f\"\\tCountry: {country.title()}\")\n",
    "    print(f\"\\tPopulation: {population}\")\n",
    "    print(f\"\\tFact: {fact.title()}\")"
   ]
  }
 ],
 "metadata": {
  "kernelspec": {
   "display_name": "py12",
   "language": "python",
   "name": "python3"
  },
  "language_info": {
   "codemirror_mode": {
    "name": "ipython",
    "version": 3
   },
   "file_extension": ".py",
   "mimetype": "text/x-python",
   "name": "python",
   "nbconvert_exporter": "python",
   "pygments_lexer": "ipython3",
   "version": "3.12.5"
  }
 },
 "nbformat": 4,
 "nbformat_minor": 2
}
