{
 "cells": [
  {
   "cell_type": "markdown",
   "metadata": {},
   "source": [
    "### 将图片从 \\( M \\times M \\) 缩放到 \\( N \\times N \\)\n",
    "\n",
    "我们从一个大小为 \\( M \\times M \\) 的原图开始，并将其缩放到 \\( N \\times N \\)。\n",
    "\n",
    "#### 坐标：\n",
    "- **原图**：\\( (x_m, y_m) \\)，其中 \\( m = 0, 1, \\dots, M-1 \\)\n",
    "- **目标图**：\\( (x_N, y_N) \\)，其中 \\( n = 0, 1, \\dots, N-1 \\)\n",
    "\n",
    "#### 中心点：\n",
    "- **原图的中心点** \\( M \\)：  \n",
    "  \\( \\text{Center}_M = \\left( \\frac{M-1}{2}, \\frac{M-1}{2} \\right) \\)\n",
    "- **目标图的中心点** \\( N \\)：  \n",
    "  \\( \\text{Center}_N = \\left( \\frac{N-1}{2}, \\frac{N-1}{2} \\right) \\)\n",
    "\n",
    "### 方程设置：\n",
    "$$\n",
    "\\frac{M-1}{2} + z = \\left( \\frac{N-1}{2} + z \\right) \\times \\frac{M}{N}\n",
    "$$\n",
    "\n",
    "解 \\( z \\)：\n",
    "\n",
    "$$\n",
    "\\frac{M-1}{2} + z = \\frac{N-1}{2} \\times \\frac{M}{N} + z \\times \\frac{M}{N}\n",
    "$$\n",
    "\n",
    "### 简化：\n",
    "$$\n",
    "\\frac{M-1}{2} + z = \\frac{M(N-1)}{2N} + z \\times \\frac{M}{N}\n",
    "$$\n",
    "\n",
    "整理项：\n",
    "\n",
    "$$\n",
    "\\left( 1 - \\frac{M}{N} \\right) \\times z = \\frac{M(N-1)}{2N} - \\frac{M-1}{2}\n",
    "$$\n",
    "\n",
    "进一步简化：\n",
    "\n",
    "$$\n",
    "z \\left( N - M \\right) = \\frac{MN - M - MN + N}{2N}\n",
    "$$\n",
    "\n",
    "$$\n",
    "z = \\frac{N-M}{2N} \\times \\frac{N}{N-M} = \\frac{1}{2}\n",
    "$$"
   ]
  }
 ],
 "metadata": {
  "language_info": {
   "name": "python"
  }
 },
 "nbformat": 4,
 "nbformat_minor": 2
}
